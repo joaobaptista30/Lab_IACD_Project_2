{
 "cells": [
  {
   "cell_type": "markdown",
   "metadata": {},
   "source": [
    "# Extract Raw Data"
   ]
  },
  {
   "cell_type": "code",
   "execution_count": null,
   "metadata": {},
   "outputs": [],
   "source": [
    "import pandas as pd\n",
    "import yahoo_fin.stock_info as si\n",
    "import os"
   ]
  },
  {
   "cell_type": "code",
   "execution_count": 2,
   "metadata": {},
   "outputs": [
    {
     "name": "stdout",
     "output_type": "stream",
     "text": [
      "0     MMM\n",
      "1     AOS\n",
      "2     ABT\n",
      "3    ABBV\n",
      "4     ACN\n",
      "5    ADBE\n",
      "6     AMD\n",
      "7     AES\n",
      "8     AFL\n",
      "9       A\n",
      "Name: Symbol, dtype: object\n",
      "Total de empresas:  503\n"
     ]
    }
   ],
   "source": [
    "url = 'https://en.wikipedia.org/wiki/List_of_S%26P_500_companies'\n",
    "SP500_company_data = pd.read_html(url)[0]\n",
    "SP500_company_data.to_csv(\"companies_data.csv\")\n",
    "\n",
    "print(SP500_company_data['Symbol'][:10])\n",
    "print('Total de empresas: ',len(SP500_company_data))"
   ]
  },
  {
   "cell_type": "markdown",
   "metadata": {},
   "source": [
    "### Train Data"
   ]
  },
  {
   "cell_type": "code",
   "execution_count": 3,
   "metadata": {},
   "outputs": [],
   "source": [
    "SP500_train_data = pd.DataFrame()\n",
    "\n",
    "for company in SP500_company_data['Symbol']:\n",
    "    try:\n",
    "        company_data = si.get_data(company, start_date=\"01/01/2010\", end_date=\"12/31/2023\", index_as_date = True, interval=\"1d\")\n",
    "        SP500_train_data = pd.concat([SP500_train_data, company_data])\n",
    "    except:\n",
    "        ...\n",
    "\n",
    "SP500_train_data.to_csv(\"stocks_train_data.csv\")"
   ]
  },
  {
   "cell_type": "code",
   "execution_count": 4,
   "metadata": {},
   "outputs": [
    {
     "data": {
      "text/html": [
       "<div>\n",
       "<style scoped>\n",
       "    .dataframe tbody tr th:only-of-type {\n",
       "        vertical-align: middle;\n",
       "    }\n",
       "\n",
       "    .dataframe tbody tr th {\n",
       "        vertical-align: top;\n",
       "    }\n",
       "\n",
       "    .dataframe thead th {\n",
       "        text-align: right;\n",
       "    }\n",
       "</style>\n",
       "<table border=\"1\" class=\"dataframe\">\n",
       "  <thead>\n",
       "    <tr style=\"text-align: right;\">\n",
       "      <th></th>\n",
       "      <th>open</th>\n",
       "      <th>high</th>\n",
       "      <th>low</th>\n",
       "      <th>close</th>\n",
       "      <th>adjclose</th>\n",
       "      <th>volume</th>\n",
       "      <th>ticker</th>\n",
       "    </tr>\n",
       "  </thead>\n",
       "  <tbody>\n",
       "    <tr>\n",
       "      <th>2010-01-04</th>\n",
       "      <td>69.473244</td>\n",
       "      <td>69.774246</td>\n",
       "      <td>69.122070</td>\n",
       "      <td>69.414719</td>\n",
       "      <td>43.783871</td>\n",
       "      <td>3640265</td>\n",
       "      <td>MMM</td>\n",
       "    </tr>\n",
       "    <tr>\n",
       "      <th>2010-01-05</th>\n",
       "      <td>69.230766</td>\n",
       "      <td>69.590302</td>\n",
       "      <td>68.311035</td>\n",
       "      <td>68.979935</td>\n",
       "      <td>43.509636</td>\n",
       "      <td>3405012</td>\n",
       "      <td>MMM</td>\n",
       "    </tr>\n",
       "    <tr>\n",
       "      <th>2010-01-06</th>\n",
       "      <td>70.133781</td>\n",
       "      <td>70.735786</td>\n",
       "      <td>69.824417</td>\n",
       "      <td>69.958191</td>\n",
       "      <td>44.126671</td>\n",
       "      <td>6301126</td>\n",
       "      <td>MMM</td>\n",
       "    </tr>\n",
       "    <tr>\n",
       "      <th>2010-01-07</th>\n",
       "      <td>69.665550</td>\n",
       "      <td>70.033447</td>\n",
       "      <td>68.662209</td>\n",
       "      <td>70.008362</td>\n",
       "      <td>44.158295</td>\n",
       "      <td>5346240</td>\n",
       "      <td>MMM</td>\n",
       "    </tr>\n",
       "    <tr>\n",
       "      <th>2010-01-08</th>\n",
       "      <td>69.974915</td>\n",
       "      <td>70.501671</td>\n",
       "      <td>69.648827</td>\n",
       "      <td>70.501671</td>\n",
       "      <td>44.469471</td>\n",
       "      <td>4073337</td>\n",
       "      <td>MMM</td>\n",
       "    </tr>\n",
       "  </tbody>\n",
       "</table>\n",
       "</div>"
      ],
      "text/plain": [
       "                 open       high        low      close   adjclose   volume  \\\n",
       "2010-01-04  69.473244  69.774246  69.122070  69.414719  43.783871  3640265   \n",
       "2010-01-05  69.230766  69.590302  68.311035  68.979935  43.509636  3405012   \n",
       "2010-01-06  70.133781  70.735786  69.824417  69.958191  44.126671  6301126   \n",
       "2010-01-07  69.665550  70.033447  68.662209  70.008362  44.158295  5346240   \n",
       "2010-01-08  69.974915  70.501671  69.648827  70.501671  44.469471  4073337   \n",
       "\n",
       "           ticker  \n",
       "2010-01-04    MMM  \n",
       "2010-01-05    MMM  \n",
       "2010-01-06    MMM  \n",
       "2010-01-07    MMM  \n",
       "2010-01-08    MMM  "
      ]
     },
     "execution_count": 4,
     "metadata": {},
     "output_type": "execute_result"
    }
   ],
   "source": [
    "SP500_train_data.head()"
   ]
  },
  {
   "cell_type": "markdown",
   "metadata": {},
   "source": [
    "### Test Data"
   ]
  },
  {
   "cell_type": "code",
   "execution_count": 5,
   "metadata": {},
   "outputs": [],
   "source": [
    "SP500_test_data = pd.DataFrame()\n",
    "\n",
    "for company in SP500_company_data['Symbol']:\n",
    "    try:\n",
    "        company_data = si.get_data(company, start_date=\"01/01/2024\", end_date=\"01/31/2024\", index_as_date = True, interval=\"1d\")\n",
    "        SP500_test_data = pd.concat([SP500_test_data, company_data])\n",
    "    except:\n",
    "        ...\n",
    "\n",
    "SP500_test_data.to_csv(\"stocks_test_data.csv\")"
   ]
  },
  {
   "cell_type": "code",
   "execution_count": 6,
   "metadata": {},
   "outputs": [
    {
     "data": {
      "text/html": [
       "<div>\n",
       "<style scoped>\n",
       "    .dataframe tbody tr th:only-of-type {\n",
       "        vertical-align: middle;\n",
       "    }\n",
       "\n",
       "    .dataframe tbody tr th {\n",
       "        vertical-align: top;\n",
       "    }\n",
       "\n",
       "    .dataframe thead th {\n",
       "        text-align: right;\n",
       "    }\n",
       "</style>\n",
       "<table border=\"1\" class=\"dataframe\">\n",
       "  <thead>\n",
       "    <tr style=\"text-align: right;\">\n",
       "      <th></th>\n",
       "      <th>open</th>\n",
       "      <th>high</th>\n",
       "      <th>low</th>\n",
       "      <th>close</th>\n",
       "      <th>adjclose</th>\n",
       "      <th>volume</th>\n",
       "      <th>ticker</th>\n",
       "    </tr>\n",
       "  </thead>\n",
       "  <tbody>\n",
       "    <tr>\n",
       "      <th>2024-01-02</th>\n",
       "      <td>90.819397</td>\n",
       "      <td>92.525085</td>\n",
       "      <td>90.677261</td>\n",
       "      <td>91.973244</td>\n",
       "      <td>88.892036</td>\n",
       "      <td>3321053</td>\n",
       "      <td>MMM</td>\n",
       "    </tr>\n",
       "    <tr>\n",
       "      <th>2024-01-03</th>\n",
       "      <td>91.329430</td>\n",
       "      <td>91.521736</td>\n",
       "      <td>89.297661</td>\n",
       "      <td>90.125420</td>\n",
       "      <td>87.106117</td>\n",
       "      <td>3547575</td>\n",
       "      <td>MMM</td>\n",
       "    </tr>\n",
       "    <tr>\n",
       "      <th>2024-01-04</th>\n",
       "      <td>90.367889</td>\n",
       "      <td>91.421402</td>\n",
       "      <td>90.058525</td>\n",
       "      <td>90.443146</td>\n",
       "      <td>87.413200</td>\n",
       "      <td>3319976</td>\n",
       "      <td>MMM</td>\n",
       "    </tr>\n",
       "    <tr>\n",
       "      <th>2024-01-05</th>\n",
       "      <td>90.284279</td>\n",
       "      <td>91.546822</td>\n",
       "      <td>89.924751</td>\n",
       "      <td>90.794312</td>\n",
       "      <td>87.752602</td>\n",
       "      <td>1991579</td>\n",
       "      <td>MMM</td>\n",
       "    </tr>\n",
       "    <tr>\n",
       "      <th>2024-01-08</th>\n",
       "      <td>90.518394</td>\n",
       "      <td>91.103676</td>\n",
       "      <td>89.958191</td>\n",
       "      <td>91.020065</td>\n",
       "      <td>87.970787</td>\n",
       "      <td>2535042</td>\n",
       "      <td>MMM</td>\n",
       "    </tr>\n",
       "  </tbody>\n",
       "</table>\n",
       "</div>"
      ],
      "text/plain": [
       "                 open       high        low      close   adjclose   volume  \\\n",
       "2024-01-02  90.819397  92.525085  90.677261  91.973244  88.892036  3321053   \n",
       "2024-01-03  91.329430  91.521736  89.297661  90.125420  87.106117  3547575   \n",
       "2024-01-04  90.367889  91.421402  90.058525  90.443146  87.413200  3319976   \n",
       "2024-01-05  90.284279  91.546822  89.924751  90.794312  87.752602  1991579   \n",
       "2024-01-08  90.518394  91.103676  89.958191  91.020065  87.970787  2535042   \n",
       "\n",
       "           ticker  \n",
       "2024-01-02    MMM  \n",
       "2024-01-03    MMM  \n",
       "2024-01-04    MMM  \n",
       "2024-01-05    MMM  \n",
       "2024-01-08    MMM  "
      ]
     },
     "execution_count": 6,
     "metadata": {},
     "output_type": "execute_result"
    }
   ],
   "source": [
    "SP500_test_data.head()"
   ]
  },
  {
   "cell_type": "markdown",
   "metadata": {},
   "source": [
    "### Verificar se as empresas são iguais em ambos "
   ]
  },
  {
   "cell_type": "code",
   "execution_count": 7,
   "metadata": {},
   "outputs": [
    {
     "name": "stdout",
     "output_type": "stream",
     "text": [
      "Datasets contem as mesmas empresas, sendo o numero total: 497\n"
     ]
    }
   ],
   "source": [
    "# verificar se contem o msm numero de empresas\n",
    "train_ind = SP500_train_data[\"ticker\"].unique()\n",
    "test_ind = SP500_test_data[\"ticker\"].unique()\n",
    "\n",
    "diff = False\n",
    "for ticker in train_ind:\n",
    "    if ticker not in test_ind:\n",
    "        diff = True\n",
    "        break\n",
    "\n",
    "if diff: print(\"Datasets contem diferentes empresas\")\n",
    "else: print(\"Datasets contem as mesmas empresas, sendo o numero total: %d\" % len(test_ind))"
   ]
  },
  {
   "cell_type": "markdown",
   "metadata": {},
   "source": [
    "## Vamos decidir quais empresas usar"
   ]
  },
  {
   "cell_type": "markdown",
   "metadata": {},
   "source": [
    "Vamos escolher os 5 melhores setores e as respetivas 30 melhores empresas com base no <b> crescimento mensal </b>"
   ]
  },
  {
   "cell_type": "code",
   "execution_count": 2,
   "metadata": {},
   "outputs": [],
   "source": [
    "# carregar os dados\n",
    "SP500_company_data = pd.read_csv(\"companies_data.csv\", index_col=0)\n",
    "SP500_test_data = pd.read_csv(\"stocks_test_data.csv\", index_col=0)\n",
    "SP500_test_data.index = pd.to_datetime(SP500_test_data.index)\n",
    "SP500_train_data = pd.read_csv(\"stocks_train_data.csv\", index_col=0)\n",
    "SP500_train_data.index = pd.to_datetime(SP500_train_data.index)"
   ]
  },
  {
   "cell_type": "code",
   "execution_count": 8,
   "metadata": {},
   "outputs": [
    {
     "name": "stdout",
     "output_type": "stream",
     "text": [
      "Total de empresas no setor 'Industrials' -> 78\n",
      "Total de empresas no setor 'Health Care' -> 62\n",
      "Total de empresas no setor 'Information Technology' -> 69\n",
      "Total de empresas no setor 'Utilities' -> 31\n",
      "Total de empresas no setor 'Financials' -> 72\n",
      "Total de empresas no setor 'Materials' -> 28\n",
      "Total de empresas no setor 'Consumer Discretionary' -> 50\n",
      "Total de empresas no setor 'Real Estate' -> 31\n",
      "Total de empresas no setor 'Communication Services' -> 22\n",
      "Total de empresas no setor 'Consumer Staples' -> 38\n",
      "Total de empresas no setor 'Energy' -> 22\n"
     ]
    }
   ],
   "source": [
    "for sector in SP500_company_data[\"GICS Sector\"].unique():\n",
    "    n_empresas = SP500_company_data[SP500_company_data[\"GICS Sector\"] == sector][\"GICS Sector\"].count()\n",
    "    print(f\"Total de empresas no setor '{sector}' -> {n_empresas}\")"
   ]
  },
  {
   "cell_type": "code",
   "execution_count": 9,
   "metadata": {},
   "outputs": [],
   "source": [
    "def get_growth(df):\n",
    "    # retorna o crescimento mensal da empresa \n",
    "    monthly_growth = 0\n",
    "    monthly = df['close'].resample('ME').agg(['first', 'last'])\n",
    "    \n",
    "    for _, row in monthly.iterrows():\n",
    "        monthly_growth += ((row['last'] - row['first']) / row['first']) * 100\n",
    "        \n",
    "    return monthly_growth/len(monthly)"
   ]
  },
  {
   "cell_type": "code",
   "execution_count": 10,
   "metadata": {},
   "outputs": [],
   "source": [
    "growth = {}\n",
    "sectors_growth = {}\n",
    "for sector in SP500_company_data[\"GICS Sector\"].unique():\n",
    "    mean_growth_sector = 0\n",
    "    sector_data = SP500_company_data[SP500_company_data[\"GICS Sector\"] == sector]\n",
    "    data = {}\n",
    "    \n",
    "    for company in sector_data[\"Symbol\"]:\n",
    "        try:\n",
    "            stock_growth = get_growth(SP500_train_data[SP500_train_data[\"ticker\"]==company])\n",
    "            mean_growth_sector += stock_growth\n",
    "            data[company] = stock_growth\n",
    "        except: continue\n",
    "        \n",
    "    growth[sector] = dict(sorted(data.items(), key=lambda item: item[1], reverse=True)) # ordenar por ordem decrescente\n",
    "    sectors_growth[sector] = mean_growth_sector/len(data)\n",
    "# ordenar em forma decrescente\n",
    "sectors_growth = dict(sorted(sectors_growth.items(), key=lambda item: item[1], reverse=True))"
   ]
  },
  {
   "cell_type": "markdown",
   "metadata": {},
   "source": [
    "### Identificar os melhores setores e respetivas melhores empresas\n",
    "\n",
    "Identificamos quais os 5 melhores setores e as respetivas 30 melhores empresas"
   ]
  },
  {
   "cell_type": "code",
   "execution_count": 12,
   "metadata": {},
   "outputs": [
    {
     "name": "stdout",
     "output_type": "stream",
     "text": [
      "1) Setor: Information Technology (avg monthly growth: 1.7003%) - all companies in sector\n",
      "    < 30 best companies >\n",
      "    PLTR - avg monthly growth: 5.0461%\n",
      "    ENPH - avg monthly growth: 4.1417%\n",
      "    CRWD - avg monthly growth: 3.7929%\n",
      "    NVDA - avg monthly growth: 3.4466%\n",
      "    ANET - avg monthly growth: 3.0379%\n",
      "    NOW - avg monthly growth: 2.8668%\n",
      "    AVGO - avg monthly growth: 2.8320%\n",
      "    EPAM - avg monthly growth: 2.7924%\n",
      "    PANW - avg monthly growth: 2.6617%\n",
      "    FTNT - avg monthly growth: 2.5234%\n",
      "    FICO - avg monthly growth: 2.5175%\n",
      "    MPWR - avg monthly growth: 2.4459%\n",
      "    SMCI - avg monthly growth: 2.4381%\n",
      "    CDNS - avg monthly growth: 2.4317%\n",
      "    AMD - avg monthly growth: 2.1137%\n",
      "    DELL - avg monthly growth: 2.0834%\n",
      "    KEYS - avg monthly growth: 2.0398%\n",
      "    IT - avg monthly growth: 2.0366%\n",
      "    SNPS - avg monthly growth: 2.0186%\n",
      "    ZBRA - avg monthly growth: 1.9960%\n",
      "    NXPI - avg monthly growth: 1.9517%\n",
      "    LRCX - avg monthly growth: 1.9481%\n",
      "    INTU - avg monthly growth: 1.9110%\n",
      "    KLAC - avg monthly growth: 1.8758%\n",
      "    CDW - avg monthly growth: 1.8708%\n",
      "    TYL - avg monthly growth: 1.8062%\n",
      "    AAPL - avg monthly growth: 1.7996%\n",
      "    ADBE - avg monthly growth: 1.7748%\n",
      "    ADSK - avg monthly growth: 1.7624%\n",
      "    PTC - avg monthly growth: 1.7368%\n",
      "2) Setor: Consumer Discretionary (avg monthly growth: 1.4491%) - all companies in sector\n",
      "    < 30 best companies >\n",
      "    TSLA - avg monthly growth: 4.4309%\n",
      "    CZR - avg monthly growth: 3.9903%\n",
      "    DPZ - avg monthly growth: 2.6936%\n",
      "    LULU - avg monthly growth: 2.4349%\n",
      "    ULTA - avg monthly growth: 2.3622%\n",
      "    CMG - avg monthly growth: 2.3206%\n",
      "    RCL - avg monthly growth: 2.2167%\n",
      "    AMZN - avg monthly growth: 2.1486%\n",
      "    ORLY - avg monthly growth: 1.9558%\n",
      "    PHM - avg monthly growth: 1.9215%\n",
      "    POOL - avg monthly growth: 1.9200%\n",
      "    DECK - avg monthly growth: 1.8455%\n",
      "    DHI - avg monthly growth: 1.8431%\n",
      "    TSCO - avg monthly growth: 1.8246%\n",
      "    AZO - avg monthly growth: 1.7968%\n",
      "    LEN - avg monthly growth: 1.7639%\n",
      "    ROST - avg monthly growth: 1.7537%\n",
      "    BKNG - avg monthly growth: 1.7075%\n",
      "    HD - avg monthly growth: 1.5797%\n",
      "    MAR - avg monthly growth: 1.5630%\n",
      "    TJX - avg monthly growth: 1.5182%\n",
      "    HLT - avg monthly growth: 1.4740%\n",
      "    MGM - avg monthly growth: 1.4614%\n",
      "    LOW - avg monthly growth: 1.4442%\n",
      "    DRI - avg monthly growth: 1.4092%\n",
      "    SBUX - avg monthly growth: 1.3872%\n",
      "    NVR - avg monthly growth: 1.3437%\n",
      "    APTV - avg monthly growth: 1.2540%\n",
      "    NKE - avg monthly growth: 1.2498%\n",
      "    EXPE - avg monthly growth: 1.1125%\n",
      "3) Setor: Industrials (avg monthly growth: 1.3986%) - all companies in sector\n",
      "    < 30 best companies >\n",
      "    CARR - avg monthly growth: 3.8153%\n",
      "    VLTO - avg monthly growth: 3.5439%\n",
      "    PAYC - avg monthly growth: 3.3813%\n",
      "    URI - avg monthly growth: 3.2766%\n",
      "    AXON - avg monthly growth: 2.9540%\n",
      "    BLDR - avg monthly growth: 2.9405%\n",
      "    ODFL - avg monthly growth: 2.4853%\n",
      "    IR - avg monthly growth: 2.1589%\n",
      "    GNRC - avg monthly growth: 2.0990%\n",
      "    CTAS - avg monthly growth: 2.0571%\n",
      "    CPRT - avg monthly growth: 1.9825%\n",
      "    TDG - avg monthly growth: 1.9369%\n",
      "    ROL - avg monthly growth: 1.8226%\n",
      "    PWR - avg monthly growth: 1.8163%\n",
      "    HII - avg monthly growth: 1.6053%\n",
      "    OTIS - avg monthly growth: 1.5745%\n",
      "    DAY - avg monthly growth: 1.5613%\n",
      "    AOS - avg monthly growth: 1.5457%\n",
      "    HWM - avg monthly growth: 1.5457%\n",
      "    TT - avg monthly growth: 1.5105%\n",
      "    GWW - avg monthly growth: 1.4977%\n",
      "    NDSN - avg monthly growth: 1.4807%\n",
      "    NOC - avg monthly growth: 1.4384%\n",
      "    PH - avg monthly growth: 1.3854%\n",
      "    SNA - avg monthly growth: 1.3791%\n",
      "    VRSK - avg monthly growth: 1.3598%\n",
      "    BR - avg monthly growth: 1.3531%\n",
      "    WAB - avg monthly growth: 1.3403%\n",
      "    AME - avg monthly growth: 1.3372%\n",
      "    FAST - avg monthly growth: 1.3367%\n",
      "4) Setor: Health Care (avg monthly growth: 1.3245%) - all companies in sector\n",
      "    < 30 best companies >\n",
      "    MRNA - avg monthly growth: 5.8430%\n",
      "    DXCM - avg monthly growth: 3.1219%\n",
      "    GEHC - avg monthly growth: 2.6110%\n",
      "    PODD - avg monthly growth: 2.2527%\n",
      "    ALGN - avg monthly growth: 2.1984%\n",
      "    IDXX - avg monthly growth: 2.1764%\n",
      "    MOH - avg monthly growth: 2.1429%\n",
      "    WST - avg monthly growth: 2.0034%\n",
      "    REGN - avg monthly growth: 1.9328%\n",
      "    CNC - avg monthly growth: 1.8125%\n",
      "    LLY - avg monthly growth: 1.7697%\n",
      "    EW - avg monthly growth: 1.6885%\n",
      "    UNH - avg monthly growth: 1.6718%\n",
      "    HCA - avg monthly growth: 1.6585%\n",
      "    VRTX - avg monthly growth: 1.6042%\n",
      "    CTLT - avg monthly growth: 1.5875%\n",
      "    IQV - avg monthly growth: 1.5344%\n",
      "    DHR - avg monthly growth: 1.5225%\n",
      "    COO - avg monthly growth: 1.4843%\n",
      "    MTD - avg monthly growth: 1.4827%\n",
      "    TMO - avg monthly growth: 1.4433%\n",
      "    ELV - avg monthly growth: 1.4305%\n",
      "    STE - avg monthly growth: 1.3847%\n",
      "    ISRG - avg monthly growth: 1.3804%\n",
      "    HUM - avg monthly growth: 1.3750%\n",
      "    CRL - avg monthly growth: 1.3739%\n",
      "    ZTS - avg monthly growth: 1.3247%\n",
      "    RMD - avg monthly growth: 1.3149%\n",
      "    BSX - avg monthly growth: 1.2836%\n",
      "    CI - avg monthly growth: 1.2767%\n",
      "5) Setor: Energy (avg monthly growth: 1.0051%) - all companies in sector\n",
      "    < 30 best companies >\n",
      "    TPL - avg monthly growth: 2.7064%\n",
      "    FANG - avg monthly growth: 2.2498%\n",
      "    TRGP - avg monthly growth: 2.1863%\n",
      "    VLO - avg monthly growth: 1.7773%\n",
      "    MPC - avg monthly growth: 1.7007%\n",
      "    OKE - avg monthly growth: 1.4869%\n",
      "    APA - avg monthly growth: 1.1420%\n",
      "    PSX - avg monthly growth: 1.1370%\n",
      "    EQT - avg monthly growth: 1.0325%\n",
      "    HES - avg monthly growth: 0.9119%\n",
      "    EOG - avg monthly growth: 0.9045%\n",
      "    HAL - avg monthly growth: 0.8043%\n",
      "    CTRA - avg monthly growth: 0.7579%\n",
      "    COP - avg monthly growth: 0.7121%\n",
      "    WMB - avg monthly growth: 0.6892%\n",
      "    DVN - avg monthly growth: 0.4699%\n",
      "    CVX - avg monthly growth: 0.4042%\n",
      "    BKR - avg monthly growth: 0.3175%\n",
      "    SLB - avg monthly growth: 0.3035%\n",
      "    OXY - avg monthly growth: 0.2981%\n",
      "    XOM - avg monthly growth: 0.1732%\n",
      "    KMI - avg monthly growth: -0.0525%\n"
     ]
    }
   ],
   "source": [
    "if not os.path.exists(\"dataset_by_sector/\"):\n",
    "    os.mkdir(\"dataset_by_sector/\")\n",
    "    \n",
    "metadata = pd.DataFrame(columns=['ticker', 'sector', 'model'])\n",
    "# metadata = metadata.append({'tinker': 'Tinker3', 'sector': 'Sector3', 'model': 'Model3'}, ignore_index=True)\n",
    "j = 1\n",
    "for sector,m_growth in sectors_growth.items():\n",
    "    if j > 5: break\n",
    "    i = 1\n",
    "    print(f\"{j}) Setor: {sector} (avg monthly growth: {m_growth:.4f}%) - all companies in sector\")\n",
    "    print(\"    < 30 best companies >\")\n",
    "    for company,data in growth[sector].items():\n",
    "        if i > 30: break\n",
    "        print(f\"    {company} - avg monthly growth: {data:.4f}%\")\n",
    "        metadata.loc[len(metadata)] = [company,sector.replace(\" \",\"_\"),\"por_definir\"]\n",
    "        # quando criarmos os modelos vamos associar a cada stock\n",
    "        i += 1\n",
    "    j += 1\n",
    "metadata.to_csv(f\"dataset_by_sector/metadata.csv\")"
   ]
  },
  {
   "cell_type": "markdown",
   "metadata": {},
   "source": [
    "### Guardar os dados\n",
    "\n",
    "Vamos agora guardar os dados das 30 melhores empresas por setor"
   ]
  },
  {
   "cell_type": "code",
   "execution_count": 13,
   "metadata": {},
   "outputs": [],
   "source": [
    "if not os.path.exists(\"dataset_by_sector/train/\"):\n",
    "    os.mkdir(\"dataset_by_sector/train/\")\n",
    "    \n",
    "if not os.path.exists(\"dataset_by_sector/test/\"):\n",
    "    os.mkdir(\"dataset_by_sector/test/\")    \n",
    "    \n",
    "limit_sector = 1\n",
    "\n",
    "for sector,m_growth in sectors_growth.items():\n",
    "    if limit_sector > 5: break\n",
    "    limit_companies = 1\n",
    "    \n",
    "    df_train = pd.DataFrame()\n",
    "    df_test = pd.DataFrame()\n",
    "    \n",
    "    for company,data in growth[sector].items():\n",
    "        if limit_companies > 30: break\n",
    "\n",
    "        df_train = pd.concat([df_train,SP500_train_data[SP500_train_data[\"ticker\"]==company]])\n",
    "        df_test = pd.concat([df_test,SP500_test_data[SP500_test_data[\"ticker\"]==company]])\n",
    "        limit_companies += 1\n",
    "\n",
    "    df_train.to_csv(f\"dataset_by_sector/train/{sector.replace(\" \",\"_\")}.csv\")\n",
    "    df_test.to_csv(f\"dataset_by_sector/test/{sector.replace(\" \",\"_\")}.csv\")\n",
    "    limit_sector += 1\n"
   ]
  },
  {
   "cell_type": "markdown",
   "metadata": {},
   "source": [
    "### Remover os datasets iniciais \n",
    "\n",
    "Remover os datasets que já não são necessários"
   ]
  },
  {
   "cell_type": "code",
   "execution_count": 14,
   "metadata": {},
   "outputs": [
    {
     "name": "stdout",
     "output_type": "stream",
     "text": [
      "Ficheiro 'companies_data.csv' removido com sucesso.\n",
      "Ficheiro 'stocks_train_data.csv' removido com sucesso.\n",
      "Ficheiro 'stocks_test_data.csv' removido com sucesso.\n"
     ]
    }
   ],
   "source": [
    "del_files = [\"companies_data.csv\",\"stocks_train_data.csv\",\"stocks_test_data.csv\"]\n",
    "\n",
    "for csv_file in del_files:\n",
    "    if os.path.exists(csv_file):\n",
    "        os.remove(csv_file)\n",
    "        print(f\"Ficheiro '{csv_file}' removido com sucesso.\")\n",
    "    else:\n",
    "        print(f\"Ficheiro '{csv_file}' não encontrado.\")"
   ]
  },
  {
   "cell_type": "markdown",
   "metadata": {},
   "source": [
    "<hr>\n",
    "tirar ?\n",
    "\n",
    "# Parte do chico"
   ]
  },
  {
   "cell_type": "markdown",
   "metadata": {},
   "source": [
    "### Decidir empresas com melhor crescimento"
   ]
  },
  {
   "cell_type": "code",
   "execution_count": 34,
   "metadata": {},
   "outputs": [
    {
     "name": "stdout",
     "output_type": "stream",
     "text": [
      "        ticker         open        close  Percentile Growth\n",
      "1222466    PCG     7.900000    13.950000          76.582274\n",
      "650933    FSLR    27.139999    39.349998          44.988944\n",
      "571668     EQT     4.920000     7.060000          43.495932\n",
      "210904    BIIB   253.199997   355.630005          40.454190\n",
      "1634373    WMB    13.420000    18.290001          36.289127\n",
      "1444320   TRGP     4.780000     6.390000          33.682000\n",
      "1316769     RF    14.210000    18.850000          32.653064\n",
      "736689     HIG    25.980000    33.520000          29.022329\n",
      "1515807   UBER    15.960000    20.490000          28.383457\n",
      "1178302    OKE    16.100000    20.490000          27.267076\n",
      "1543983    UHS    66.669998    84.839996          27.253635\n",
      "1493506    TDG   242.100006   305.769989          26.299042\n",
      "1190852   PLTR    25.850000    32.580002          26.034821\n",
      "456277     DRI    33.730000    42.419998          25.763412\n",
      "1462883   TSLA     1.266667     1.592667          25.736833\n",
      "1174780     ON     8.360000    10.510000          25.717711\n",
      "557099    ENPH     2.650000     3.330000          25.660370\n",
      "21964      AMD     3.190000     3.990000          25.078368\n",
      "29995      AFL    29.450001    36.730000          24.719859\n",
      "743435     HCA    67.000000    83.500000          24.626866\n",
      "1621336   WELL    32.849998    40.919998          24.566210\n",
      "253005    BLDR     9.800000    12.200000          24.489792\n",
      "1043751     MU     5.450000     6.740000          23.669725\n",
      "1511116    TSN    44.000000    54.209999          23.204543\n",
      "291527    CARR    13.750000    16.920000          23.054546\n",
      "1197044   PARA    12.000000    14.750000          22.916667\n",
      "269443     CZR    11.420000    14.030000          22.854638\n",
      "1287610   QCOM    57.459999    70.449997          22.607028\n",
      "893138     KDP    19.900000    24.320000          22.211056\n",
      "137895    APTV    33.230000    40.580002          22.118575\n",
      "1406963   STLD    15.180000    18.510000          21.936758\n",
      "638757     FRT    75.599998    91.610001          21.177252\n",
      "1309138    REG    38.000000    45.959999          20.947366\n",
      "349247     CHD    50.020000    60.430000          20.811675\n",
      "568656    EPAM   233.509995   281.720001          20.645800\n",
      "1008240   MTCH    69.529999    83.879997          20.638571\n",
      "1375265    SPG    46.310001    55.740002          20.362773\n",
      "290571     CCL    10.950000    13.170000          20.273975\n",
      "1500550   TRMB    21.070000    25.330000          20.218321\n",
      "790884     HUM   178.619995   214.649994          20.171313\n",
      "629445    FICO    28.340000    33.990002          19.936491\n",
      "1310259   REGN    56.000000    67.050003          19.732148\n",
      "1153797    NVR  2266.629883  2709.419922          19.535172\n",
      "1426944    SYY    31.049999    37.110001          19.516913\n",
      "1101616   NFLX     9.487143    11.320000          19.319380\n",
      "1441035    TPR    11.510000    13.720000          19.200695\n",
      "435633    CRWD   153.500000   182.880005          19.140068\n",
      "781531     HWM    12.730000    15.150000          19.010213\n",
      "1428543   TMUS    14.440000    17.180000          18.975075\n",
      "1472377    TPL   108.973335   129.646667          18.971001\n"
     ]
    }
   ],
   "source": [
    "file_path = \"stocks_train_data.csv\"  \n",
    "data = pd.read_csv(file_path)\n",
    "\n",
    "if 'open' in data.columns and 'close' in data.columns and 'ticker' in data.columns:\n",
    "\n",
    "    data['Percentile Growth'] = ((data['close'] - data['open']) / data['open']) * 100\n",
    "\n",
    "    unique_companies = data.loc[data.groupby('ticker')['Percentile Growth'].idxmax()]\n",
    "\n",
    "    sorted_data = unique_companies.sort_values(by='Percentile Growth', ascending=False)\n",
    "\n",
    "    top_20_companies = sorted_data.head(50)\n",
    "\n",
    "    print(top_20_companies[['ticker', 'open', 'close', 'Percentile Growth']])\n",
    "\n",
    "    top_20_companies.to_csv(\"top_20_companies_1day.csv\", index=False)\n",
    "else:\n",
    "    print(\"Data is missing\")\n",
    "\n"
   ]
  },
  {
   "cell_type": "code",
   "execution_count": 35,
   "metadata": {},
   "outputs": [
    {
     "name": "stdout",
     "output_type": "stream",
     "text": [
      "    ticker  Média Crescimento Diário\n",
      "465   VLTO                  0.586928\n",
      "83     CEG                  0.238511\n",
      "73    CARR                  0.165847\n",
      "438    TPL                  0.157252\n",
      "3     ABNB                  0.119603\n",
      "..     ...                       ...\n",
      "220    HII                  0.058211\n",
      "156    ELV                  0.057973\n",
      "396    ROL                  0.057695\n",
      "447     TT                  0.057579\n",
      "119   CTVA                  0.057425\n",
      "\n",
      "[100 rows x 2 columns]\n"
     ]
    }
   ],
   "source": [
    "file_path = \"stocks_train_data.csv\"\n",
    "data = pd.read_csv(file_path)\n",
    "\n",
    "if 'open' in data.columns and 'close' in data.columns and 'ticker' in data.columns:\n",
    "\n",
    "    data['Percentual Crescimento Diário'] = ((data['close'] - data['open']) / data['open']) * 100\n",
    "\n",
    "    media_crescimento = data.groupby('ticker')['Percentual Crescimento Diário'].mean().reset_index()\n",
    "\n",
    "    media_crescimento.rename(columns={'Percentual Crescimento Diário': 'Média Crescimento Diário'}, inplace=True)\n",
    "\n",
    "    top_50_empresas = media_crescimento.sort_values(by='Média Crescimento Diário', ascending=False).head(100)\n",
    "\n",
    "    print(top_50_empresas)\n",
    "\n",
    "    top_50_empresas.to_csv(\"top_50_empresas_daily average.csv\", index=False)\n",
    "else:\n",
    "    print(\"Data is missing\")\n"
   ]
  },
  {
   "cell_type": "code",
   "execution_count": 36,
   "metadata": {},
   "outputs": [
    {
     "name": "stdout",
     "output_type": "stream",
     "text": [
      "    ticker  First_Open   Last_Close  Percentual Crescimento\n",
      "445   TSLA    1.266667   248.479996            19516.836476\n",
      "341   NVDA    0.462750    49.521999            10601.674913\n",
      "331   NFLX    7.931429   486.880005             6038.616515\n",
      "43    AVGO    1.830000   111.625000             5999.726633\n",
      "147   DXCM    2.052500   124.089996             5945.797601\n",
      "46    AXON    4.460000   258.329987             5692.152116\n",
      "460    URI    9.920000   573.419983             5680.443332\n",
      "185   FICO   21.379999  1164.010010             5344.387537\n",
      "438    TPL   10.146667   524.150024             5065.736186\n",
      "141    DPZ    8.530000   412.230011             4732.708369\n",
      "80    CDNS    6.010000   272.369995             4431.946502\n",
      "347   ODFL    4.548148   202.664993             4355.989259\n",
      "61    BLDR    3.930000   166.940002             4147.837140\n",
      "390   REGN   24.240000   878.289978             3523.308524\n",
      "285   LULU   15.435000   511.290009             3212.536408\n",
      "193   FTNT    1.788000    58.529999             3173.489887\n",
      "335    NOW   23.750000   706.489990             2874.694696\n",
      "315   MPWR   24.350000   630.780029             2490.472359\n",
      "95     CMG    1.792000    45.739201             2452.410669\n",
      "456   ULTA   19.230000   489.989990             2448.049932\n"
     ]
    }
   ],
   "source": [
    "file_path = \"stocks_train_data.csv\"  \n",
    "data = pd.read_csv(file_path)\n",
    "\n",
    "if 'open' in data.columns and 'close' in data.columns and 'ticker' in data.columns:\n",
    "    grouped = data.groupby('ticker')\n",
    "\n",
    "    summary = grouped.agg(\n",
    "        First_Open=('open', 'first'),\n",
    "        Last_Close=('close', 'last')\n",
    "    ).reset_index()\n",
    "\n",
    "    summary['Percentual Crescimento'] = ((summary['Last_Close'] - summary['First_Open']) / summary['First_Open']) * 100\n",
    "\n",
    "    top_100_empresas = summary.sort_values(by='Percentual Crescimento', ascending=False).head(20)\n",
    "\n",
    "    print(top_100_empresas)\n",
    "\n",
    "    top_100_empresas.to_csv(\"top_100_empresas.csv\", index=False)\n",
    "else:\n",
    "    print(\"Erro: As colunas necessárias ('open', 'close', 'ticker') estão ausentes nos dados.\")\n"
   ]
  }
 ],
 "metadata": {
  "kernelspec": {
   "display_name": ".venv",
   "language": "python",
   "name": "python3"
  },
  "language_info": {
   "codemirror_mode": {
    "name": "ipython",
    "version": 3
   },
   "file_extension": ".py",
   "mimetype": "text/x-python",
   "name": "python",
   "nbconvert_exporter": "python",
   "pygments_lexer": "ipython3",
   "version": "3.12.7"
  }
 },
 "nbformat": 4,
 "nbformat_minor": 2
}
