{
 "cells": [
  {
   "cell_type": "markdown",
   "metadata": {},
   "source": [
    "# S&P500 Forecasting\n",
    "\n",
    "- **Autores:** Guilherme Magalhães, João Baptista, Francisco Martins, Nuno Moreira\n",
    "- **Universidade:** Faculdade de Ciências da Universidade do Porto\n",
    "- **Cadeira:** Laboratório de Inteligência Artificial e Ciência de Dados (CC3044)"
   ]
  },
  {
   "cell_type": "markdown",
   "metadata": {},
   "source": [
    "## Problema\n",
    "\n",
    "No contexto da cadeira de LABIACD (CC3044), foi-nos pedido para desenvolver um modelo de aprendizagem computacional, capaz de prever os preços futuros das ações (stocks) do índice S&P500, e aplicar métodos de otimização para selecionar o melhor conjunto de stocks para investimento diário.\n",
    "\n",
    "## Contexto Cronológico\n",
    "\n",
    "No decorrer deste projeto, simulamos um contexto de trabalho em que, no final de dezembro de 2023, um investidor nos pediu um programa capaz de prever os preços das ações do índice S&P500 para todos os dias de janeiro de 2024. Assim, elaboramos um modelo que combina previsões baseadas em dados históricos (desde janeiro de 2013 até dezembro de 2023) com técnicas de otimização, para maximizar o retorno ou minimizar o risco, criando uma solução para os desafios financeiros do mundo real."
   ]
  },
  {
   "cell_type": "markdown",
   "metadata": {},
   "source": [
    "## Introdução\n",
    "Neste notebook, iremos realizar a extração e o pré-processamento dos dados históricos do índice S&P500. Em seguida, iremos utilizar os dados processados para realizar o feature engineering e o treino do modelo."
   ]
  },
  {
   "cell_type": "markdown",
   "metadata": {},
   "source": [
    "### Imports Necessários"
   ]
  },
  {
   "cell_type": "code",
   "execution_count": 17,
   "metadata": {},
   "outputs": [],
   "source": [
    "import pandas as pd\n",
    "import numpy as np\n",
    "import yahoo_fin.stock_info as si\n",
    "import os"
   ]
  },
  {
   "cell_type": "markdown",
   "metadata": {},
   "source": [
    "### Extração dos Dados\n",
    "Em primeiro lugar, vamos extrair e analisar informações do S&P500, através da Wikipedia."
   ]
  },
  {
   "cell_type": "code",
   "execution_count": 18,
   "metadata": {},
   "outputs": [],
   "source": [
    "url = 'https://en.wikipedia.org/wiki/List_of_S%26P_500_companies'\n",
    "SP500_company_data = pd.read_html(url)[0]\n",
    "SP500_company_data.to_csv(\"companies_data.csv\")"
   ]
  },
  {
   "cell_type": "code",
   "execution_count": 19,
   "metadata": {},
   "outputs": [
    {
     "data": {
      "text/html": [
       "<div>\n",
       "<style scoped>\n",
       "    .dataframe tbody tr th:only-of-type {\n",
       "        vertical-align: middle;\n",
       "    }\n",
       "\n",
       "    .dataframe tbody tr th {\n",
       "        vertical-align: top;\n",
       "    }\n",
       "\n",
       "    .dataframe thead th {\n",
       "        text-align: right;\n",
       "    }\n",
       "</style>\n",
       "<table border=\"1\" class=\"dataframe\">\n",
       "  <thead>\n",
       "    <tr style=\"text-align: right;\">\n",
       "      <th></th>\n",
       "      <th>Symbol</th>\n",
       "      <th>Security</th>\n",
       "      <th>GICS Sector</th>\n",
       "      <th>GICS Sub-Industry</th>\n",
       "      <th>Headquarters Location</th>\n",
       "      <th>Date added</th>\n",
       "      <th>CIK</th>\n",
       "      <th>Founded</th>\n",
       "    </tr>\n",
       "  </thead>\n",
       "  <tbody>\n",
       "    <tr>\n",
       "      <th>0</th>\n",
       "      <td>MMM</td>\n",
       "      <td>3M</td>\n",
       "      <td>Industrials</td>\n",
       "      <td>Industrial Conglomerates</td>\n",
       "      <td>Saint Paul, Minnesota</td>\n",
       "      <td>1957-03-04</td>\n",
       "      <td>66740</td>\n",
       "      <td>1902</td>\n",
       "    </tr>\n",
       "    <tr>\n",
       "      <th>1</th>\n",
       "      <td>AOS</td>\n",
       "      <td>A. O. Smith</td>\n",
       "      <td>Industrials</td>\n",
       "      <td>Building Products</td>\n",
       "      <td>Milwaukee, Wisconsin</td>\n",
       "      <td>2017-07-26</td>\n",
       "      <td>91142</td>\n",
       "      <td>1916</td>\n",
       "    </tr>\n",
       "    <tr>\n",
       "      <th>2</th>\n",
       "      <td>ABT</td>\n",
       "      <td>Abbott Laboratories</td>\n",
       "      <td>Health Care</td>\n",
       "      <td>Health Care Equipment</td>\n",
       "      <td>North Chicago, Illinois</td>\n",
       "      <td>1957-03-04</td>\n",
       "      <td>1800</td>\n",
       "      <td>1888</td>\n",
       "    </tr>\n",
       "    <tr>\n",
       "      <th>3</th>\n",
       "      <td>ABBV</td>\n",
       "      <td>AbbVie</td>\n",
       "      <td>Health Care</td>\n",
       "      <td>Biotechnology</td>\n",
       "      <td>North Chicago, Illinois</td>\n",
       "      <td>2012-12-31</td>\n",
       "      <td>1551152</td>\n",
       "      <td>2013 (1888)</td>\n",
       "    </tr>\n",
       "    <tr>\n",
       "      <th>4</th>\n",
       "      <td>ACN</td>\n",
       "      <td>Accenture</td>\n",
       "      <td>Information Technology</td>\n",
       "      <td>IT Consulting &amp; Other Services</td>\n",
       "      <td>Dublin, Ireland</td>\n",
       "      <td>2011-07-06</td>\n",
       "      <td>1467373</td>\n",
       "      <td>1989</td>\n",
       "    </tr>\n",
       "  </tbody>\n",
       "</table>\n",
       "</div>"
      ],
      "text/plain": [
       "  Symbol             Security             GICS Sector  \\\n",
       "0    MMM                   3M             Industrials   \n",
       "1    AOS          A. O. Smith             Industrials   \n",
       "2    ABT  Abbott Laboratories             Health Care   \n",
       "3   ABBV               AbbVie             Health Care   \n",
       "4    ACN            Accenture  Information Technology   \n",
       "\n",
       "                GICS Sub-Industry    Headquarters Location  Date added  \\\n",
       "0        Industrial Conglomerates    Saint Paul, Minnesota  1957-03-04   \n",
       "1               Building Products     Milwaukee, Wisconsin  2017-07-26   \n",
       "2           Health Care Equipment  North Chicago, Illinois  1957-03-04   \n",
       "3                   Biotechnology  North Chicago, Illinois  2012-12-31   \n",
       "4  IT Consulting & Other Services          Dublin, Ireland  2011-07-06   \n",
       "\n",
       "       CIK      Founded  \n",
       "0    66740         1902  \n",
       "1    91142         1916  \n",
       "2     1800         1888  \n",
       "3  1551152  2013 (1888)  \n",
       "4  1467373         1989  "
      ]
     },
     "execution_count": 19,
     "metadata": {},
     "output_type": "execute_result"
    }
   ],
   "source": [
    "SP500_company_data.head()"
   ]
  },
  {
   "cell_type": "code",
   "execution_count": 20,
   "metadata": {},
   "outputs": [
    {
     "name": "stdout",
     "output_type": "stream",
     "text": [
      "0     MMM\n",
      "1     AOS\n",
      "2     ABT\n",
      "3    ABBV\n",
      "4     ACN\n",
      "5    ADBE\n",
      "6     AMD\n",
      "7     AES\n",
      "8     AFL\n",
      "9       A\n",
      "Name: Symbol, dtype: object\n",
      "Total de empresas:  503\n"
     ]
    }
   ],
   "source": [
    "print(SP500_company_data['Symbol'][:10])\n",
    "print('Total de empresas: ',len(SP500_company_data))"
   ]
  },
  {
   "cell_type": "code",
   "execution_count": 21,
   "metadata": {},
   "outputs": [
    {
     "name": "stdout",
     "output_type": "stream",
     "text": [
      "Existem 503 stocks diferentes de 503 disponíveis no índice S&P500.\n"
     ]
    }
   ],
   "source": [
    "uniqueStocks = np.unique(SP500_company_data.Symbol.to_numpy())\n",
    "print(f\"Existem {uniqueStocks.size} stocks diferentes de {SP500_company_data.shape[0]} disponíveis no índice S&P500.\")"
   ]
  },
  {
   "cell_type": "markdown",
   "metadata": {},
   "source": []
  },
  {
   "cell_type": "markdown",
   "metadata": {},
   "source": [
    "### Train Data"
   ]
  },
  {
   "cell_type": "markdown",
   "metadata": {},
   "source": [
    "Para treinar vamos usar os dados desde jan/2013 até out/2023 para cada empresa\n",
    "\n",
    "(sendo possivel se, por exemplo uma empresa so tem dados a partir de jan/2017 iremos ter os dados a partir dessa data)"
   ]
  },
  {
   "cell_type": "code",
   "execution_count": 22,
   "metadata": {},
   "outputs": [],
   "source": [
    "SP500_train_data = pd.DataFrame()\n",
    "\n",
    "for company in SP500_company_data['Symbol']:\n",
    "    try:\n",
    "        company_data = si.get_data(company, start_date=\"01/01/2013\", end_date=\"11/01/2023\", index_as_date = True, interval=\"1d\")\n",
    "        SP500_train_data = pd.concat([SP500_train_data, company_data])\n",
    "    except:\n",
    "        ...\n",
    "\n",
    "SP500_train_data.to_csv(\"stocks_train_data.csv\")"
   ]
  },
  {
   "cell_type": "code",
   "execution_count": 23,
   "metadata": {},
   "outputs": [
    {
     "data": {
      "text/html": [
       "<div>\n",
       "<style scoped>\n",
       "    .dataframe tbody tr th:only-of-type {\n",
       "        vertical-align: middle;\n",
       "    }\n",
       "\n",
       "    .dataframe tbody tr th {\n",
       "        vertical-align: top;\n",
       "    }\n",
       "\n",
       "    .dataframe thead th {\n",
       "        text-align: right;\n",
       "    }\n",
       "</style>\n",
       "<table border=\"1\" class=\"dataframe\">\n",
       "  <thead>\n",
       "    <tr style=\"text-align: right;\">\n",
       "      <th></th>\n",
       "      <th>open</th>\n",
       "      <th>high</th>\n",
       "      <th>low</th>\n",
       "      <th>close</th>\n",
       "      <th>adjclose</th>\n",
       "      <th>volume</th>\n",
       "      <th>ticker</th>\n",
       "    </tr>\n",
       "  </thead>\n",
       "  <tbody>\n",
       "    <tr>\n",
       "      <th>2023-10-25</th>\n",
       "      <td>165.559998</td>\n",
       "      <td>165.990005</td>\n",
       "      <td>162.350006</td>\n",
       "      <td>163.669998</td>\n",
       "      <td>161.677795</td>\n",
       "      <td>1273600</td>\n",
       "      <td>ZTS</td>\n",
       "    </tr>\n",
       "    <tr>\n",
       "      <th>2023-10-26</th>\n",
       "      <td>162.270004</td>\n",
       "      <td>162.289993</td>\n",
       "      <td>157.880005</td>\n",
       "      <td>158.070007</td>\n",
       "      <td>156.145950</td>\n",
       "      <td>2891100</td>\n",
       "      <td>ZTS</td>\n",
       "    </tr>\n",
       "    <tr>\n",
       "      <th>2023-10-27</th>\n",
       "      <td>157.929993</td>\n",
       "      <td>157.929993</td>\n",
       "      <td>155.160004</td>\n",
       "      <td>156.029999</td>\n",
       "      <td>154.130798</td>\n",
       "      <td>2407100</td>\n",
       "      <td>ZTS</td>\n",
       "    </tr>\n",
       "    <tr>\n",
       "      <th>2023-10-30</th>\n",
       "      <td>157.130005</td>\n",
       "      <td>158.410004</td>\n",
       "      <td>153.520004</td>\n",
       "      <td>157.000000</td>\n",
       "      <td>155.088974</td>\n",
       "      <td>2756200</td>\n",
       "      <td>ZTS</td>\n",
       "    </tr>\n",
       "    <tr>\n",
       "      <th>2023-10-31</th>\n",
       "      <td>157.509995</td>\n",
       "      <td>158.529999</td>\n",
       "      <td>156.089996</td>\n",
       "      <td>157.000000</td>\n",
       "      <td>155.460297</td>\n",
       "      <td>3208900</td>\n",
       "      <td>ZTS</td>\n",
       "    </tr>\n",
       "  </tbody>\n",
       "</table>\n",
       "</div>"
      ],
      "text/plain": [
       "                  open        high         low       close    adjclose  \\\n",
       "2023-10-25  165.559998  165.990005  162.350006  163.669998  161.677795   \n",
       "2023-10-26  162.270004  162.289993  157.880005  158.070007  156.145950   \n",
       "2023-10-27  157.929993  157.929993  155.160004  156.029999  154.130798   \n",
       "2023-10-30  157.130005  158.410004  153.520004  157.000000  155.088974   \n",
       "2023-10-31  157.509995  158.529999  156.089996  157.000000  155.460297   \n",
       "\n",
       "             volume ticker  \n",
       "2023-10-25  1273600    ZTS  \n",
       "2023-10-26  2891100    ZTS  \n",
       "2023-10-27  2407100    ZTS  \n",
       "2023-10-30  2756200    ZTS  \n",
       "2023-10-31  3208900    ZTS  "
      ]
     },
     "execution_count": 23,
     "metadata": {},
     "output_type": "execute_result"
    }
   ],
   "source": [
    "SP500_train_data.tail()"
   ]
  },
  {
   "cell_type": "markdown",
   "metadata": {},
   "source": [
    "### Test Data"
   ]
  },
  {
   "cell_type": "markdown",
   "metadata": {},
   "source": [
    "Para testar e obter os melhores hiper-parametros para o nosso modelo vamos usar os dados de nov/2023 e dez/2023"
   ]
  },
  {
   "cell_type": "code",
   "execution_count": 24,
   "metadata": {},
   "outputs": [],
   "source": [
    "SP500_test_data = pd.DataFrame()\n",
    "\n",
    "for company in SP500_company_data['Symbol']:\n",
    "    try:\n",
    "        company_data = si.get_data(company, start_date=\"10/04/2023\", end_date=\"12/31/2023\", index_as_date = True, interval=\"1d\")\n",
    "        SP500_test_data = pd.concat([SP500_test_data, company_data])\n",
    "    except:\n",
    "        ...\n",
    "\n",
    "SP500_test_data.to_csv(\"stocks_test_data.csv\")"
   ]
  },
  {
   "cell_type": "code",
   "execution_count": 25,
   "metadata": {},
   "outputs": [
    {
     "data": {
      "text/html": [
       "<div>\n",
       "<style scoped>\n",
       "    .dataframe tbody tr th:only-of-type {\n",
       "        vertical-align: middle;\n",
       "    }\n",
       "\n",
       "    .dataframe tbody tr th {\n",
       "        vertical-align: top;\n",
       "    }\n",
       "\n",
       "    .dataframe thead th {\n",
       "        text-align: right;\n",
       "    }\n",
       "</style>\n",
       "<table border=\"1\" class=\"dataframe\">\n",
       "  <thead>\n",
       "    <tr style=\"text-align: right;\">\n",
       "      <th></th>\n",
       "      <th>open</th>\n",
       "      <th>high</th>\n",
       "      <th>low</th>\n",
       "      <th>close</th>\n",
       "      <th>adjclose</th>\n",
       "      <th>volume</th>\n",
       "      <th>ticker</th>\n",
       "    </tr>\n",
       "  </thead>\n",
       "  <tbody>\n",
       "    <tr>\n",
       "      <th>2023-12-22</th>\n",
       "      <td>195.320007</td>\n",
       "      <td>195.910004</td>\n",
       "      <td>192.740005</td>\n",
       "      <td>194.979996</td>\n",
       "      <td>193.067825</td>\n",
       "      <td>1548400</td>\n",
       "      <td>ZTS</td>\n",
       "    </tr>\n",
       "    <tr>\n",
       "      <th>2023-12-26</th>\n",
       "      <td>194.880005</td>\n",
       "      <td>196.339996</td>\n",
       "      <td>194.089996</td>\n",
       "      <td>195.500000</td>\n",
       "      <td>193.582733</td>\n",
       "      <td>814600</td>\n",
       "      <td>ZTS</td>\n",
       "    </tr>\n",
       "    <tr>\n",
       "      <th>2023-12-27</th>\n",
       "      <td>195.410004</td>\n",
       "      <td>197.009995</td>\n",
       "      <td>194.740005</td>\n",
       "      <td>196.899994</td>\n",
       "      <td>194.968994</td>\n",
       "      <td>766400</td>\n",
       "      <td>ZTS</td>\n",
       "    </tr>\n",
       "    <tr>\n",
       "      <th>2023-12-28</th>\n",
       "      <td>197.619995</td>\n",
       "      <td>198.600006</td>\n",
       "      <td>196.529999</td>\n",
       "      <td>197.160004</td>\n",
       "      <td>195.226471</td>\n",
       "      <td>880100</td>\n",
       "      <td>ZTS</td>\n",
       "    </tr>\n",
       "    <tr>\n",
       "      <th>2023-12-29</th>\n",
       "      <td>196.679993</td>\n",
       "      <td>198.009995</td>\n",
       "      <td>196.250000</td>\n",
       "      <td>197.369995</td>\n",
       "      <td>195.434402</td>\n",
       "      <td>1007200</td>\n",
       "      <td>ZTS</td>\n",
       "    </tr>\n",
       "  </tbody>\n",
       "</table>\n",
       "</div>"
      ],
      "text/plain": [
       "                  open        high         low       close    adjclose  \\\n",
       "2023-12-22  195.320007  195.910004  192.740005  194.979996  193.067825   \n",
       "2023-12-26  194.880005  196.339996  194.089996  195.500000  193.582733   \n",
       "2023-12-27  195.410004  197.009995  194.740005  196.899994  194.968994   \n",
       "2023-12-28  197.619995  198.600006  196.529999  197.160004  195.226471   \n",
       "2023-12-29  196.679993  198.009995  196.250000  197.369995  195.434402   \n",
       "\n",
       "             volume ticker  \n",
       "2023-12-22  1548400    ZTS  \n",
       "2023-12-26   814600    ZTS  \n",
       "2023-12-27   766400    ZTS  \n",
       "2023-12-28   880100    ZTS  \n",
       "2023-12-29  1007200    ZTS  "
      ]
     },
     "execution_count": 25,
     "metadata": {},
     "output_type": "execute_result"
    }
   ],
   "source": [
    "SP500_test_data.tail()"
   ]
  },
  {
   "cell_type": "markdown",
   "metadata": {},
   "source": [
    "### Simulation Data"
   ]
  },
  {
   "cell_type": "markdown",
   "metadata": {},
   "source": [
    "Para as simulações vamos usar os dados de jan/2024\n",
    "\n",
    "(vamos extrair um pouco antes pois é necessário para realizar a feature engineering e ter todos os dias a partir do primeiro de trading)"
   ]
  },
  {
   "cell_type": "code",
   "execution_count": 26,
   "metadata": {},
   "outputs": [],
   "source": [
    "SP500_simulate_data = pd.DataFrame()\n",
    "\n",
    "for company in SP500_company_data['Symbol']:\n",
    "    try:\n",
    "        company_data = si.get_data(company, start_date=\"12/22/2023\", end_date=\"01/31/2024\", index_as_date = True, interval=\"1d\")\n",
    "        SP500_simulate_data = pd.concat([SP500_simulate_data, company_data])\n",
    "    except:\n",
    "        ...\n",
    "\n",
    "SP500_simulate_data.to_csv(\"stocks_simulate_data.csv\")"
   ]
  },
  {
   "cell_type": "code",
   "execution_count": 27,
   "metadata": {},
   "outputs": [
    {
     "data": {
      "text/html": [
       "<div>\n",
       "<style scoped>\n",
       "    .dataframe tbody tr th:only-of-type {\n",
       "        vertical-align: middle;\n",
       "    }\n",
       "\n",
       "    .dataframe tbody tr th {\n",
       "        vertical-align: top;\n",
       "    }\n",
       "\n",
       "    .dataframe thead th {\n",
       "        text-align: right;\n",
       "    }\n",
       "</style>\n",
       "<table border=\"1\" class=\"dataframe\">\n",
       "  <thead>\n",
       "    <tr style=\"text-align: right;\">\n",
       "      <th></th>\n",
       "      <th>open</th>\n",
       "      <th>high</th>\n",
       "      <th>low</th>\n",
       "      <th>close</th>\n",
       "      <th>adjclose</th>\n",
       "      <th>volume</th>\n",
       "      <th>ticker</th>\n",
       "    </tr>\n",
       "  </thead>\n",
       "  <tbody>\n",
       "    <tr>\n",
       "      <th>2024-01-24</th>\n",
       "      <td>188.809998</td>\n",
       "      <td>189.699997</td>\n",
       "      <td>185.929993</td>\n",
       "      <td>186.070007</td>\n",
       "      <td>184.663101</td>\n",
       "      <td>1837700</td>\n",
       "      <td>ZTS</td>\n",
       "    </tr>\n",
       "    <tr>\n",
       "      <th>2024-01-25</th>\n",
       "      <td>185.529999</td>\n",
       "      <td>187.529999</td>\n",
       "      <td>185.309998</td>\n",
       "      <td>187.320007</td>\n",
       "      <td>185.903641</td>\n",
       "      <td>2530600</td>\n",
       "      <td>ZTS</td>\n",
       "    </tr>\n",
       "    <tr>\n",
       "      <th>2024-01-26</th>\n",
       "      <td>189.210007</td>\n",
       "      <td>192.880005</td>\n",
       "      <td>188.970001</td>\n",
       "      <td>191.520004</td>\n",
       "      <td>190.071899</td>\n",
       "      <td>1840200</td>\n",
       "      <td>ZTS</td>\n",
       "    </tr>\n",
       "    <tr>\n",
       "      <th>2024-01-29</th>\n",
       "      <td>191.360001</td>\n",
       "      <td>193.000000</td>\n",
       "      <td>189.960007</td>\n",
       "      <td>192.759995</td>\n",
       "      <td>191.302521</td>\n",
       "      <td>1669900</td>\n",
       "      <td>ZTS</td>\n",
       "    </tr>\n",
       "    <tr>\n",
       "      <th>2024-01-30</th>\n",
       "      <td>192.869995</td>\n",
       "      <td>193.509995</td>\n",
       "      <td>190.440002</td>\n",
       "      <td>191.429993</td>\n",
       "      <td>189.982559</td>\n",
       "      <td>1607500</td>\n",
       "      <td>ZTS</td>\n",
       "    </tr>\n",
       "  </tbody>\n",
       "</table>\n",
       "</div>"
      ],
      "text/plain": [
       "                  open        high         low       close    adjclose  \\\n",
       "2024-01-24  188.809998  189.699997  185.929993  186.070007  184.663101   \n",
       "2024-01-25  185.529999  187.529999  185.309998  187.320007  185.903641   \n",
       "2024-01-26  189.210007  192.880005  188.970001  191.520004  190.071899   \n",
       "2024-01-29  191.360001  193.000000  189.960007  192.759995  191.302521   \n",
       "2024-01-30  192.869995  193.509995  190.440002  191.429993  189.982559   \n",
       "\n",
       "             volume ticker  \n",
       "2024-01-24  1837700    ZTS  \n",
       "2024-01-25  2530600    ZTS  \n",
       "2024-01-26  1840200    ZTS  \n",
       "2024-01-29  1669900    ZTS  \n",
       "2024-01-30  1607500    ZTS  "
      ]
     },
     "execution_count": 27,
     "metadata": {},
     "output_type": "execute_result"
    }
   ],
   "source": [
    "SP500_simulate_data.tail()"
   ]
  },
  {
   "cell_type": "markdown",
   "metadata": {},
   "source": [
    "### Verificar se as empresas são iguais em ambos "
   ]
  },
  {
   "cell_type": "code",
   "execution_count": 28,
   "metadata": {},
   "outputs": [
    {
     "name": "stdout",
     "output_type": "stream",
     "text": [
      "Datasets contem as mesmas empresas, sendo o numero total: 497\n"
     ]
    }
   ],
   "source": [
    "# verificar se contem o msm numero de empresas\n",
    "train_ind = SP500_train_data[\"ticker\"].unique()\n",
    "test_ind = SP500_test_data[\"ticker\"].unique()\n",
    "simu_ind = SP500_simulate_data[\"ticker\"].unique()\n",
    "\n",
    "diff = False\n",
    "for ticker in train_ind:\n",
    "    if ticker not in test_ind:\n",
    "        diff = True\n",
    "        break\n",
    "\n",
    "if diff: print(\"Datasets contem diferentes empresas\")\n",
    "else: print(\"Datasets contem as mesmas empresas, sendo o numero total: %d\" % len(test_ind))"
   ]
  },
  {
   "cell_type": "markdown",
   "metadata": {},
   "source": [
    "## Vamos decidir quais empresas usar"
   ]
  },
  {
   "cell_type": "markdown",
   "metadata": {},
   "source": [
    "Vamos escolher os 5 melhores setores e as respetivas 30 melhores empresas com base no <b> crescimento mensal </b>"
   ]
  },
  {
   "cell_type": "code",
   "execution_count": 11,
   "metadata": {},
   "outputs": [],
   "source": [
    "# carregar os dados\n",
    "SP500_company_data = pd.read_csv(\"companies_data.csv\", index_col=0)\n",
    "SP500_test_data = pd.read_csv(\"stocks_test_data.csv\", index_col=0)\n",
    "SP500_test_data.index = pd.to_datetime(SP500_test_data.index)\n",
    "SP500_train_data = pd.read_csv(\"stocks_train_data.csv\", index_col=0)\n",
    "SP500_train_data.index = pd.to_datetime(SP500_train_data.index)\n",
    "SP500_simulate_data = pd.read_csv(\"stocks_simulate_data.csv\", index_col=0)\n",
    "SP500_simulate_data.index = pd.to_datetime(SP500_simulate_data.index)"
   ]
  },
  {
   "cell_type": "code",
   "execution_count": 32,
   "metadata": {},
   "outputs": [
    {
     "name": "stdout",
     "output_type": "stream",
     "text": [
      "Total de empresas no setor 'Industrials' -> 78\n",
      "Total de empresas no setor 'Health Care' -> 62\n",
      "Total de empresas no setor 'Information Technology' -> 69\n",
      "Total de empresas no setor 'Utilities' -> 31\n",
      "Total de empresas no setor 'Financials' -> 72\n",
      "Total de empresas no setor 'Materials' -> 28\n",
      "Total de empresas no setor 'Consumer Discretionary' -> 50\n",
      "Total de empresas no setor 'Real Estate' -> 31\n",
      "Total de empresas no setor 'Communication Services' -> 22\n",
      "Total de empresas no setor 'Consumer Staples' -> 38\n",
      "Total de empresas no setor 'Energy' -> 22\n"
     ]
    },
    {
     "data": {
      "image/png": "[encoded data removed]",
      "text/plain": [
       "<Figure size 1000x600 with 1 Axes>"
      ]
     },
     "metadata": {},
     "output_type": "display_data"
    }
   ],
   "source": [
    "import matplotlib.pyplot as plt\n",
    "\n",
    "for sector in SP500_company_data[\"GICS Sector\"].unique():\n",
    "    n_empresas = SP500_company_data[SP500_company_data[\"GICS Sector\"] == sector][\"GICS Sector\"].count()\n",
    "    print(f\"Total de empresas no setor '{sector}' -> {n_empresas}\")\n",
    "    \n",
    "\n",
    "sectors = SP500_company_data[\"GICS Sector\"].unique()\n",
    "counts = [SP500_company_data[SP500_company_data[\"GICS Sector\"] == sector][\"GICS Sector\"].count() for sector in sectors]\n",
    "\n",
    "plt.figure(figsize=(10, 6))\n",
    "plt.bar(sectors, counts, color='skyblue')\n",
    "\n",
    "plt.title(\"Number of Companies by Sector in S&P 500\", fontsize=16)\n",
    "plt.xlabel(\"Sector\", fontsize=12)\n",
    "plt.ylabel(\"Number of Companies\", fontsize=12)\n",
    "\n",
    "plt.xticks(rotation=45, ha='right')\n",
    "\n",
    "plt.tight_layout()\n",
    "plt.show()\n"
   ]
  },
  {
   "cell_type": "code",
   "execution_count": 33,
   "metadata": {},
   "outputs": [],
   "source": [
    "def get_growth(df):\n",
    "    # retorna o crescimento mensal da empresa \n",
    "    monthly_growth = 0\n",
    "    monthly = df['close'].resample('ME').agg(['first', 'last'])\n",
    "    \n",
    "    for _, row in monthly.iterrows():\n",
    "        monthly_growth += ((row['last'] - row['first']) / row['first']) * 100\n",
    "        \n",
    "    return monthly_growth/len(monthly)"
   ]
  },
  {
   "cell_type": "code",
   "execution_count": 15,
   "metadata": {},
   "outputs": [],
   "source": [
    "growth = {}\n",
    "sectors_growth = {}\n",
    "for sector in SP500_company_data[\"GICS Sector\"].unique():\n",
    "    mean_growth_sector = 0\n",
    "    sector_data = SP500_company_data[SP500_company_data[\"GICS Sector\"] == sector]\n",
    "    data = {}\n",
    "    \n",
    "    for company in sector_data[\"Symbol\"]: \n",
    "        try:\n",
    "            stock_growth = get_growth(SP500_train_data[SP500_train_data[\"ticker\"]==company])\n",
    "            mean_growth_sector += stock_growth\n",
    "            data[company] = stock_growth\n",
    "        except:\n",
    "            ...\n",
    "    growth[sector] = dict(sorted(data.items(), key=lambda item: item[1], reverse=True)) # ordenar por ordem decrescente\n",
    "    sectors_growth[sector] = mean_growth_sector/len(data)\n",
    "# ordenar em forma decrescente\n",
    "sectors_growth = dict(sorted(sectors_growth.items(), key=lambda item: item[1], reverse=True))"
   ]
  },
  {
   "cell_type": "markdown",
   "metadata": {},
   "source": [
    "### Identificar os melhores setores e respetivas melhores empresas\n",
    "\n",
    "Identificamos quais os 5 melhores setores e as respetivas 30 melhores empresas"
   ]
  },
  {
   "cell_type": "code",
   "execution_count": 16,
   "metadata": {},
   "outputs": [
    {
     "name": "stdout",
     "output_type": "stream",
     "text": [
      "1) Setor: Information Technology (avg monthly growth: 1.6906%) - all companies in sector\n",
      "    < 30 best companies >\n",
      "    PLTR - avg monthly growth: 4.8093%\n",
      "    ENPH - avg monthly growth: 4.5056%\n",
      "    NVDA - avg monthly growth: 4.3222%\n",
      "    AMD - avg monthly growth: 3.2526%\n",
      "    CRWD - avg monthly growth: 3.1527%\n",
      "    ANET - avg monthly growth: 2.9773%\n",
      "    AVGO - avg monthly growth: 2.8534%\n",
      "    NOW - avg monthly growth: 2.7821%\n",
      "    MPWR - avg monthly growth: 2.6723%\n",
      "    PANW - avg monthly growth: 2.6632%\n",
      "    SMCI - avg monthly growth: 2.6045%\n",
      "    EPAM - avg monthly growth: 2.5880%\n",
      "    FTNT - avg monthly growth: 2.4486%\n",
      "    CDNS - avg monthly growth: 2.4176%\n",
      "    LRCX - avg monthly growth: 2.3566%\n",
      "    FICO - avg monthly growth: 2.3395%\n",
      "    SNPS - avg monthly growth: 2.2480%\n",
      "    ADBE - avg monthly growth: 2.1802%\n",
      "    MU - avg monthly growth: 2.1777%\n",
      "    AMAT - avg monthly growth: 2.0917%\n",
      "    ZBRA - avg monthly growth: 2.0421%\n",
      "    MSFT - avg monthly growth: 2.0040%\n",
      "    KLAC - avg monthly growth: 1.9861%\n",
      "    ON - avg monthly growth: 1.9701%\n",
      "    DELL - avg monthly growth: 1.9377%\n",
      "    FSLR - avg monthly growth: 1.9212%\n",
      "    KEYS - avg monthly growth: 1.8215%\n",
      "    CDW - avg monthly growth: 1.7981%\n",
      "    INTU - avg monthly growth: 1.7805%\n",
      "    IT - avg monthly growth: 1.6867%\n",
      "2) Setor: Health Care (avg monthly growth: 1.2401%) - all companies in sector\n",
      "    < 30 best companies >\n",
      "    MRNA - avg monthly growth: 5.5911%\n",
      "    DXCM - avg monthly growth: 3.4253%\n",
      "    WST - avg monthly growth: 2.2517%\n",
      "    PODD - avg monthly growth: 2.1919%\n",
      "    ALGN - avg monthly growth: 2.0981%\n",
      "    IDXX - avg monthly growth: 2.0896%\n",
      "    GEHC - avg monthly growth: 2.0258%\n",
      "    MOH - avg monthly growth: 2.0192%\n",
      "    LLY - avg monthly growth: 1.9656%\n",
      "    BSX - avg monthly growth: 1.8059%\n",
      "    VRTX - avg monthly growth: 1.7901%\n",
      "    UNH - avg monthly growth: 1.7622%\n",
      "    ELV - avg monthly growth: 1.7397%\n",
      "    HCA - avg monthly growth: 1.6434%\n",
      "    CNC - avg monthly growth: 1.6272%\n",
      "    HUM - avg monthly growth: 1.5449%\n",
      "    STE - avg monthly growth: 1.5065%\n",
      "    TMO - avg monthly growth: 1.4782%\n",
      "    DHR - avg monthly growth: 1.4752%\n",
      "    EW - avg monthly growth: 1.4423%\n",
      "    CRL - avg monthly growth: 1.4032%\n",
      "    CI - avg monthly growth: 1.3799%\n",
      "    SYK - avg monthly growth: 1.3660%\n",
      "    IQV - avg monthly growth: 1.3555%\n",
      "    CTLT - avg monthly growth: 1.3245%\n",
      "    ISRG - avg monthly growth: 1.3228%\n",
      "    MTD - avg monthly growth: 1.2378%\n",
      "    MCK - avg monthly growth: 1.2208%\n",
      "    RMD - avg monthly growth: 1.1965%\n",
      "    ABBV - avg monthly growth: 1.1674%\n",
      "3) Setor: Consumer Discretionary (avg monthly growth: 1.2011%) - all companies in sector\n",
      "    < 30 best companies >\n",
      "    TSLA - avg monthly growth: 4.7046%\n",
      "    CZR - avg monthly growth: 3.9394%\n",
      "    RCL - avg monthly growth: 2.0774%\n",
      "    AMZN - avg monthly growth: 2.0726%\n",
      "    DECK - avg monthly growth: 2.0285%\n",
      "    CMG - avg monthly growth: 1.9757%\n",
      "    DPZ - avg monthly growth: 1.8690%\n",
      "    ORLY - avg monthly growth: 1.8600%\n",
      "    BBY - avg monthly growth: 1.8354%\n",
      "    AZO - avg monthly growth: 1.6795%\n",
      "    POOL - avg monthly growth: 1.6521%\n",
      "    MAR - avg monthly growth: 1.6242%\n",
      "    DRI - avg monthly growth: 1.5750%\n",
      "    ULTA - avg monthly growth: 1.5424%\n",
      "    DHI - avg monthly growth: 1.5279%\n",
      "    LULU - avg monthly growth: 1.5141%\n",
      "    ROST - avg monthly growth: 1.4385%\n",
      "    LOW - avg monthly growth: 1.4243%\n",
      "    TSCO - avg monthly growth: 1.3610%\n",
      "    MGM - avg monthly growth: 1.3560%\n",
      "    PHM - avg monthly growth: 1.3525%\n",
      "    HLT - avg monthly growth: 1.3523%\n",
      "    NVR - avg monthly growth: 1.3500%\n",
      "    HD - avg monthly growth: 1.2755%\n",
      "    TJX - avg monthly growth: 1.2436%\n",
      "    BKNG - avg monthly growth: 1.2431%\n",
      "    NKE - avg monthly growth: 1.2074%\n",
      "    SBUX - avg monthly growth: 1.0825%\n",
      "    MCD - avg monthly growth: 1.0442%\n",
      "    LEN - avg monthly growth: 1.0241%\n",
      "4) Setor: Industrials (avg monthly growth: 1.0757%) - all companies in sector\n",
      "    < 30 best companies >\n",
      "    CARR - avg monthly growth: 3.7028%\n",
      "    PAYC - avg monthly growth: 3.1632%\n",
      "    AXON - avg monthly growth: 2.9902%\n",
      "    BLDR - avg monthly growth: 2.4877%\n",
      "    ODFL - avg monthly growth: 2.2789%\n",
      "    URI - avg monthly growth: 2.2693%\n",
      "    CTAS - avg monthly growth: 2.1584%\n",
      "    CPRT - avg monthly growth: 1.9983%\n",
      "    IR - avg monthly growth: 1.9286%\n",
      "    PWR - avg monthly growth: 1.7055%\n",
      "    ROL - avg monthly growth: 1.6727%\n",
      "    NOC - avg monthly growth: 1.6491%\n",
      "    TT - avg monthly growth: 1.5796%\n",
      "    BR - avg monthly growth: 1.5753%\n",
      "    HII - avg monthly growth: 1.5316%\n",
      "    DAY - avg monthly growth: 1.5004%\n",
      "    TDG - avg monthly growth: 1.4889%\n",
      "    GNRC - avg monthly growth: 1.4852%\n",
      "    WM - avg monthly growth: 1.4575%\n",
      "    RSG - avg monthly growth: 1.4172%\n",
      "    ADP - avg monthly growth: 1.4091%\n",
      "    CSX - avg monthly growth: 1.3745%\n",
      "    HWM - avg monthly growth: 1.3453%\n",
      "    LMT - avg monthly growth: 1.3296%\n",
      "    OTIS - avg monthly growth: 1.3091%\n",
      "    DAL - avg monthly growth: 1.2802%\n",
      "    GWW - avg monthly growth: 1.2746%\n",
      "    PH - avg monthly growth: 1.2308%\n",
      "    IEX - avg monthly growth: 1.2247%\n",
      "    XYL - avg monthly growth: 1.2118%\n",
      "5) Setor: Energy (avg monthly growth: 1.0063%) - all companies in sector\n",
      "    < 30 best companies >\n",
      "    TPL - avg monthly growth: 3.2960%\n",
      "    FANG - avg monthly growth: 2.2994%\n",
      "    TRGP - avg monthly growth: 1.9132%\n",
      "    APA - avg monthly growth: 1.6494%\n",
      "    VLO - avg monthly growth: 1.6149%\n",
      "    MPC - avg monthly growth: 1.5951%\n",
      "    OKE - avg monthly growth: 1.3642%\n",
      "    HES - avg monthly growth: 1.2820%\n",
      "    EQT - avg monthly growth: 1.1588%\n",
      "    EOG - avg monthly growth: 0.9961%\n",
      "    DVN - avg monthly growth: 0.8414%\n",
      "    PSX - avg monthly growth: 0.7635%\n",
      "    HAL - avg monthly growth: 0.7409%\n",
      "    COP - avg monthly growth: 0.6997%\n",
      "    CTRA - avg monthly growth: 0.4390%\n",
      "    OXY - avg monthly growth: 0.4356%\n",
      "    WMB - avg monthly growth: 0.3264%\n",
      "    SLB - avg monthly growth: 0.2852%\n",
      "    CVX - avg monthly growth: 0.2803%\n",
      "    BKR - avg monthly growth: 0.2531%\n",
      "    XOM - avg monthly growth: 0.1515%\n",
      "    KMI - avg monthly growth: -0.2473%\n"
     ]
    }
   ],
   "source": [
    "if not os.path.exists(\"dataset_by_sector/\"):\n",
    "    os.mkdir(\"dataset_by_sector/\")\n",
    "    \n",
    "metadata = pd.DataFrame(columns=['ticker', 'sector', 'model'])\n",
    "# metadata = metadata.append({'tinker': 'Tinker3', 'sector': 'Sector3', 'model': 'Model3'}, ignore_index=True)\n",
    "j = 1\n",
    "for sector,m_growth in sectors_growth.items():\n",
    "    if j > 5: break\n",
    "    i = 1\n",
    "    print(f\"{j}) Setor: {sector} (avg monthly growth: {m_growth:.4f}%) - all companies in sector\")\n",
    "    print(\"    < 30 best companies >\")\n",
    "    for company,data in growth[sector].items():\n",
    "        if i > 30: break\n",
    "        print(f\"    {company} - avg monthly growth: {data:.4f}%\")\n",
    "        metadata.loc[len(metadata)] = [company,sector.replace(\" \",\"_\"),\"por_definir\"]\n",
    "        # quando criarmos os modelos vamos associar a cada stock\n",
    "        i += 1\n",
    "    j += 1\n",
    "metadata.to_csv(f\"dataset_by_sector/metadata.csv\")"
   ]
  },
  {
   "cell_type": "markdown",
   "metadata": {},
   "source": [
    "### Guardar os dados\n",
    "\n",
    "Vamos agora guardar os dados das 30 melhores empresas por setor"
   ]
  },
  {
   "cell_type": "code",
   "execution_count": 17,
   "metadata": {},
   "outputs": [],
   "source": [
    "if not os.path.exists(\"dataset_by_sector/train/\"):\n",
    "    os.mkdir(\"dataset_by_sector/train/\")\n",
    "    \n",
    "if not os.path.exists(\"dataset_by_sector/test/\"):\n",
    "    os.mkdir(\"dataset_by_sector/test/\")    \n",
    "\n",
    "if not os.path.exists(\"dataset_by_sector/simulate/\"):\n",
    "    os.mkdir(\"dataset_by_sector/simulate/\")    \n",
    "    \n",
    "limit_sector = 1\n",
    "\n",
    "for sector,m_growth in sectors_growth.items():\n",
    "    if limit_sector > 5: break\n",
    "    limit_companies = 1\n",
    "    \n",
    "    df_train = pd.DataFrame()\n",
    "    df_test = pd.DataFrame()\n",
    "    df_simulate = pd.DataFrame()\n",
    "    \n",
    "    for company,data in growth[sector].items():\n",
    "        if limit_companies > 30: break\n",
    "\n",
    "        df_train = pd.concat([df_train,SP500_train_data[SP500_train_data[\"ticker\"]==company]])\n",
    "        df_test = pd.concat([df_test,SP500_test_data[SP500_test_data[\"ticker\"]==company]])\n",
    "        df_simulate = pd.concat([df_simulate,SP500_simulate_data[SP500_simulate_data[\"ticker\"]==company]])\n",
    "        limit_companies += 1\n",
    "\n",
    "    df_train.to_csv(f\"dataset_by_sector/train/{sector.replace(' ','_')}.csv\")\n",
    "    df_test.to_csv(f\"dataset_by_sector/test/{sector.replace(' ','_')}.csv\")\n",
    "    df_simulate.to_csv(f\"dataset_by_sector/simulate/{sector.replace(' ','_')}.csv\")\n",
    "    limit_sector += 1\n"
   ]
  },
  {
   "cell_type": "markdown",
   "metadata": {},
   "source": [
    "### Remover os datasets iniciais \n",
    "\n",
    "Remover os datasets que já não são necessários"
   ]
  },
  {
   "cell_type": "code",
   "execution_count": 34,
   "metadata": {},
   "outputs": [
    {
     "name": "stdout",
     "output_type": "stream",
     "text": [
      "Ficheiro 'companies_data.csv' removido com sucesso.\n",
      "Ficheiro 'stocks_train_data.csv' removido com sucesso.\n",
      "Ficheiro 'stocks_test_data.csv' removido com sucesso.\n",
      "Ficheiro 'stocks_simulate_data.csv' removido com sucesso.\n"
     ]
    }
   ],
   "source": [
    "del_files = [\"companies_data.csv\",\"stocks_train_data.csv\",\"stocks_test_data.csv\",\"stocks_simulate_data.csv\"]\n",
    "\n",
    "for csv_file in del_files:\n",
    "    if os.path.exists(csv_file):\n",
    "        os.remove(csv_file)\n",
    "        print(f\"Ficheiro '{csv_file}' removido com sucesso.\")\n",
    "    else:\n",
    "        print(f\"Ficheiro '{csv_file}' não encontrado.\")"
   ]
  }
 ],
 "metadata": {
  "kernelspec": {
   "display_name": ".venv",
   "language": "python",
   "name": "python3"
  },
  "language_info": {
   "codemirror_mode": {
    "name": "ipython",
    "version": 3
   },
   "file_extension": ".py",
   "mimetype": "text/x-python",
   "name": "python",
   "nbconvert_exporter": "python",
   "pygments_lexer": "ipython3",
   "version": "3.12.6"
  }
 },
 "nbformat": 4,
 "nbformat_minor": 2
}
