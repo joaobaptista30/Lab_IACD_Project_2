{
 "cells": [
  {
   "cell_type": "markdown",
   "metadata": {},
   "source": [
    "# Extract Raw Data"
   ]
  },
  {
   "cell_type": "code",
   "execution_count": null,
   "metadata": {},
   "outputs": [],
   "source": [
    "import pandas as pd\n",
    "import yahoo_fin.stock_info as si"
   ]
  },
  {
   "cell_type": "code",
   "execution_count": 2,
   "metadata": {},
   "outputs": [
    {
     "name": "stdout",
     "output_type": "stream",
     "text": [
      "0     MMM\n",
      "1     AOS\n",
      "2     ABT\n",
      "3    ABBV\n",
      "4     ACN\n",
      "5    ADBE\n",
      "6     AMD\n",
      "7     AES\n",
      "8     AFL\n",
      "9       A\n",
      "Name: Symbol, dtype: object\n",
      "Total de empresas:  503\n"
     ]
    }
   ],
   "source": [
    "url = 'https://en.wikipedia.org/wiki/List_of_S%26P_500_companies'\n",
    "SP500_company_data = pd.read_html(url)[0]\n",
    "SP500_company_data.to_csv(\"companies_data.csv\")\n",
    "\n",
    "print(SP500_company_data['Symbol'][:10])  # Print first 10 tickers as a test\n",
    "print('Total de empresas: ',len(SP500_company_data))"
   ]
  },
  {
   "cell_type": "markdown",
   "metadata": {},
   "source": [
    "### Train Data"
   ]
  },
  {
   "cell_type": "code",
   "execution_count": null,
   "metadata": {},
   "outputs": [],
   "source": [
    "SP500_train_data = pd.DataFrame()\n",
    "\n",
    "for company in SP500_company_data['Symbol']:\n",
    "    try:\n",
    "        company_data = si.get_data(company, start_date=\"01/01/2010\", end_date=\"12/31/2023\", index_as_date = True, interval=\"1d\")\n",
    "        SP500_train_data = pd.concat([SP500_train_data, company_data])\n",
    "    except:\n",
    "        ...\n",
    "\n",
    "SP500_train_data.to_csv(\"stocks_train_data.csv\")"
   ]
  },
  {
   "cell_type": "code",
   "execution_count": 20,
   "metadata": {},
   "outputs": [
    {
     "data": {
      "text/html": [
       "<div>\n",
       "<style scoped>\n",
       "    .dataframe tbody tr th:only-of-type {\n",
       "        vertical-align: middle;\n",
       "    }\n",
       "\n",
       "    .dataframe tbody tr th {\n",
       "        vertical-align: top;\n",
       "    }\n",
       "\n",
       "    .dataframe thead th {\n",
       "        text-align: right;\n",
       "    }\n",
       "</style>\n",
       "<table border=\"1\" class=\"dataframe\">\n",
       "  <thead>\n",
       "    <tr style=\"text-align: right;\">\n",
       "      <th></th>\n",
       "      <th>open</th>\n",
       "      <th>high</th>\n",
       "      <th>low</th>\n",
       "      <th>close</th>\n",
       "      <th>adjclose</th>\n",
       "      <th>volume</th>\n",
       "      <th>ticker</th>\n",
       "    </tr>\n",
       "  </thead>\n",
       "  <tbody>\n",
       "    <tr>\n",
       "      <th>2010-01-04</th>\n",
       "      <td>69.473244</td>\n",
       "      <td>69.774246</td>\n",
       "      <td>69.122070</td>\n",
       "      <td>69.414719</td>\n",
       "      <td>44.016731</td>\n",
       "      <td>3640265</td>\n",
       "      <td>MMM</td>\n",
       "    </tr>\n",
       "    <tr>\n",
       "      <th>2010-01-05</th>\n",
       "      <td>69.230766</td>\n",
       "      <td>69.590302</td>\n",
       "      <td>68.311035</td>\n",
       "      <td>68.979935</td>\n",
       "      <td>43.741035</td>\n",
       "      <td>3405012</td>\n",
       "      <td>MMM</td>\n",
       "    </tr>\n",
       "    <tr>\n",
       "      <th>2010-01-06</th>\n",
       "      <td>70.133781</td>\n",
       "      <td>70.735786</td>\n",
       "      <td>69.824417</td>\n",
       "      <td>69.958191</td>\n",
       "      <td>44.361359</td>\n",
       "      <td>6301126</td>\n",
       "      <td>MMM</td>\n",
       "    </tr>\n",
       "    <tr>\n",
       "      <th>2010-01-07</th>\n",
       "      <td>69.665550</td>\n",
       "      <td>70.033447</td>\n",
       "      <td>68.662209</td>\n",
       "      <td>70.008362</td>\n",
       "      <td>44.393158</td>\n",
       "      <td>5346240</td>\n",
       "      <td>MMM</td>\n",
       "    </tr>\n",
       "    <tr>\n",
       "      <th>2010-01-08</th>\n",
       "      <td>69.974915</td>\n",
       "      <td>70.501671</td>\n",
       "      <td>69.648827</td>\n",
       "      <td>70.501671</td>\n",
       "      <td>44.705978</td>\n",
       "      <td>4073337</td>\n",
       "      <td>MMM</td>\n",
       "    </tr>\n",
       "  </tbody>\n",
       "</table>\n",
       "</div>"
      ],
      "text/plain": [
       "                 open       high        low      close   adjclose   volume  \\\n",
       "2010-01-04  69.473244  69.774246  69.122070  69.414719  44.016731  3640265   \n",
       "2010-01-05  69.230766  69.590302  68.311035  68.979935  43.741035  3405012   \n",
       "2010-01-06  70.133781  70.735786  69.824417  69.958191  44.361359  6301126   \n",
       "2010-01-07  69.665550  70.033447  68.662209  70.008362  44.393158  5346240   \n",
       "2010-01-08  69.974915  70.501671  69.648827  70.501671  44.705978  4073337   \n",
       "\n",
       "           ticker  \n",
       "2010-01-04    MMM  \n",
       "2010-01-05    MMM  \n",
       "2010-01-06    MMM  \n",
       "2010-01-07    MMM  \n",
       "2010-01-08    MMM  "
      ]
     },
     "execution_count": 20,
     "metadata": {},
     "output_type": "execute_result"
    }
   ],
   "source": [
    "SP500_train_data.head()"
   ]
  },
  {
   "cell_type": "markdown",
   "metadata": {},
   "source": [
    "### Test Data"
   ]
  },
  {
   "cell_type": "code",
   "execution_count": null,
   "metadata": {},
   "outputs": [],
   "source": [
    "SP500_test_data = pd.DataFrame()\n",
    "\n",
    "for company in SP500_company_data['Symbol']:\n",
    "    try:\n",
    "        company_data = si.get_data(company, start_date=\"01/01/2024\", end_date=\"01/31/2024\", index_as_date = True, interval=\"1d\")\n",
    "        SP500_test_data = pd.concat([SP500_test_data, company_data])\n",
    "    except:\n",
    "        ... \n",
    "\n",
    "SP500_test_data.to_csv(\"stocks_test_data.csv\")"
   ]
  },
  {
   "cell_type": "code",
   "execution_count": 18,
   "metadata": {},
   "outputs": [
    {
     "data": {
      "text/html": [
       "<div>\n",
       "<style scoped>\n",
       "    .dataframe tbody tr th:only-of-type {\n",
       "        vertical-align: middle;\n",
       "    }\n",
       "\n",
       "    .dataframe tbody tr th {\n",
       "        vertical-align: top;\n",
       "    }\n",
       "\n",
       "    .dataframe thead th {\n",
       "        text-align: right;\n",
       "    }\n",
       "</style>\n",
       "<table border=\"1\" class=\"dataframe\">\n",
       "  <thead>\n",
       "    <tr style=\"text-align: right;\">\n",
       "      <th></th>\n",
       "      <th>open</th>\n",
       "      <th>high</th>\n",
       "      <th>low</th>\n",
       "      <th>close</th>\n",
       "      <th>adjclose</th>\n",
       "      <th>volume</th>\n",
       "      <th>ticker</th>\n",
       "    </tr>\n",
       "  </thead>\n",
       "  <tbody>\n",
       "    <tr>\n",
       "      <th>2024-01-02</th>\n",
       "      <td>90.819397</td>\n",
       "      <td>92.525085</td>\n",
       "      <td>90.677261</td>\n",
       "      <td>91.973244</td>\n",
       "      <td>89.364792</td>\n",
       "      <td>3321053</td>\n",
       "      <td>MMM</td>\n",
       "    </tr>\n",
       "    <tr>\n",
       "      <th>2024-01-03</th>\n",
       "      <td>91.329430</td>\n",
       "      <td>91.521736</td>\n",
       "      <td>89.297661</td>\n",
       "      <td>90.125420</td>\n",
       "      <td>87.569382</td>\n",
       "      <td>3547575</td>\n",
       "      <td>MMM</td>\n",
       "    </tr>\n",
       "    <tr>\n",
       "      <th>2024-01-04</th>\n",
       "      <td>90.367889</td>\n",
       "      <td>91.421402</td>\n",
       "      <td>90.058525</td>\n",
       "      <td>90.443146</td>\n",
       "      <td>87.878098</td>\n",
       "      <td>3319976</td>\n",
       "      <td>MMM</td>\n",
       "    </tr>\n",
       "    <tr>\n",
       "      <th>2024-01-05</th>\n",
       "      <td>90.284279</td>\n",
       "      <td>91.546822</td>\n",
       "      <td>89.924751</td>\n",
       "      <td>90.794312</td>\n",
       "      <td>88.219299</td>\n",
       "      <td>1991579</td>\n",
       "      <td>MMM</td>\n",
       "    </tr>\n",
       "    <tr>\n",
       "      <th>2024-01-08</th>\n",
       "      <td>90.518394</td>\n",
       "      <td>91.103676</td>\n",
       "      <td>89.958191</td>\n",
       "      <td>91.020065</td>\n",
       "      <td>88.438644</td>\n",
       "      <td>2535042</td>\n",
       "      <td>MMM</td>\n",
       "    </tr>\n",
       "  </tbody>\n",
       "</table>\n",
       "</div>"
      ],
      "text/plain": [
       "                 open       high        low      close   adjclose   volume  \\\n",
       "2024-01-02  90.819397  92.525085  90.677261  91.973244  89.364792  3321053   \n",
       "2024-01-03  91.329430  91.521736  89.297661  90.125420  87.569382  3547575   \n",
       "2024-01-04  90.367889  91.421402  90.058525  90.443146  87.878098  3319976   \n",
       "2024-01-05  90.284279  91.546822  89.924751  90.794312  88.219299  1991579   \n",
       "2024-01-08  90.518394  91.103676  89.958191  91.020065  88.438644  2535042   \n",
       "\n",
       "           ticker  \n",
       "2024-01-02    MMM  \n",
       "2024-01-03    MMM  \n",
       "2024-01-04    MMM  \n",
       "2024-01-05    MMM  \n",
       "2024-01-08    MMM  "
      ]
     },
     "execution_count": 18,
     "metadata": {},
     "output_type": "execute_result"
    }
   ],
   "source": [
    "SP500_test_data.head()"
   ]
  },
  {
   "cell_type": "markdown",
   "metadata": {},
   "source": [
    "### Verificar se as empresas são iguais em ambos "
   ]
  },
  {
   "cell_type": "code",
   "execution_count": null,
   "metadata": {},
   "outputs": [
    {
     "data": {
      "text/plain": [
       "True"
      ]
     },
     "execution_count": 35,
     "metadata": {},
     "output_type": "execute_result"
    }
   ],
   "source": [
    "# verificar se contem o msm numero de empresas\n",
    "train_ind = SP500_train_data[\"ticker\"].unique()\n",
    "test_ind = SP500_test_data[\"ticker\"].unique()\n",
    "len(train_ind) == len(test_ind)"
   ]
  },
  {
   "cell_type": "code",
   "execution_count": null,
   "metadata": {},
   "outputs": [
    {
     "name": "stdout",
     "output_type": "stream",
     "text": [
      "497 0\n"
     ]
    }
   ],
   "source": [
    "count,err = 0,0\n",
    "\n",
    "for ind in train_ind:\n",
    "    if ind in test_ind:\n",
    "        count += 1\n",
    "    else:\n",
    "        err += 1\n",
    "print(count,err)"
   ]
  }
 ],
 "metadata": {
  "kernelspec": {
   "display_name": "Python 3",
   "language": "python",
   "name": "python3"
  },
  "language_info": {
   "codemirror_mode": {
    "name": "ipython",
    "version": 3
   },
   "file_extension": ".py",
   "mimetype": "text/x-python",
   "name": "python",
   "nbconvert_exporter": "python",
   "pygments_lexer": "ipython3",
   "version": "3.12.6"
  }
 },
 "nbformat": 4,
 "nbformat_minor": 2
}
