{
 "cells": [
  {
   "cell_type": "markdown",
   "metadata": {},
   "source": [
    "# S&P500 Forecasting\n",
    "\n",
    "- **Autores:** Guilherme Magalhães, João Baptista, Francisco Martins, Nuno Moreira\n",
    "- **Universidade:** Faculdade de Ciências da Universidade do Porto\n",
    "- **Cadeira:** Laboratório de Inteligência Artificial e Ciência de Dados (CC3044)"
   ]
  },
  {
   "cell_type": "markdown",
   "metadata": {},
   "source": [
    "## Problema\n",
    "\n",
    "No contexto da cadeira de LABIACD (CC3044), foi-nos pedido para desenvolver um modelo de aprendizagem computacional, capaz de prever os preços futuros das ações (stocks) do índice S&P500, e aplicar métodos de otimização para selecionar o melhor conjunto de stocks para investimento diário.\n",
    "\n",
    "## Contexto Cronológico\n",
    "\n",
    "No decorrer deste projeto, simulamos um contexto de trabalho em que, no final de dezembro de 2023, um investidor nos pediu um programa capaz de prever os preços das ações do índice S&P500, para todos os dias de janeiro de 2024.\n",
    "\n",
    "Assim, elaboramos um modelo que combina previsões baseadas em dados históricos (desde janeiro de 2013 até dezembro de 2023) com técnicas de otimização, para maximizar o retorno, criando uma solução para os desafios financeiros do mundo real."
   ]
  },
  {
   "cell_type": "markdown",
   "metadata": {},
   "source": [
    "## Introdução\n",
    "Neste notebook vamos pre-processar os dados e realizar feature engineering\n",
    "\n",
    "Também iremos escolher o algoritmo e treinar tal como otimizar os hiper parametros"
   ]
  },
  {
   "cell_type": "markdown",
   "metadata": {},
   "source": [
    "### Imports Necessários"
   ]
  },
  {
   "cell_type": "code",
   "execution_count": null,
   "metadata": {},
   "outputs": [],
   "source": [
    "import pandas as pd\n",
    "import numpy as np\n",
    "from sklearn.ensemble import RandomForestRegressor\n",
    "from sklearn.metrics import mean_squared_error, mean_absolute_error\n",
    "import matplotlib.pyplot as plt\n",
    "from joblib import Parallel, delayed\n",
    "from sklearn.model_selection import ParameterGrid\n",
    "from sklearn.ensemble import RandomForestRegressor\n",
    "import os\n",
    "import pickle"
   ]
  },
  {
   "cell_type": "markdown",
   "metadata": {},
   "source": [
    "\n",
    "#### Funções que vamos usar para:\n",
    "- analisar a performance do modelo\n",
    "- guardar e carregar dados"
   ]
  },
  {
   "cell_type": "code",
   "execution_count": 6,
   "metadata": {},
   "outputs": [],
   "source": [
    "def performance_metrics(y_pred,y_test):\n",
    "    # RMSE (Root Mean Squared Error)\n",
    "    rmse = np.sqrt(mean_squared_error(y_test, y_pred))\n",
    "\n",
    "    # MAE (Mean Absolute Error)\n",
    "    mae = mean_absolute_error(y_test, y_pred)\n",
    "\n",
    "    # MAPE (Mean Absolute Percentage Error)\n",
    "    n = len(y_pred)\n",
    "    mape = 0\n",
    "    error = 0 # quando o stock nao teve alteracao e o crescimento foi de 0% descartamos\n",
    "    for i in range(n):\n",
    "        if y_test.iloc[i] == 0: # evitar dividir por 0\n",
    "            error += 1\n",
    "            continue\n",
    "        mape += (abs(y_test.iloc[i]-y_pred[i]) / (y_test.iloc[i]))\n",
    "    mape *= 100/n \n",
    "\n",
    "    print(f\"Root Mean Squared Error (RMSE): {rmse:.5f}\")\n",
    "    print(f\"Mean Absolute Error (MAE): {mae:.5f}\")\n",
    "    print(f\"Mean Absolute Percentage Error (MAPE): {mape:.5}% - (casos onde y_test=0: {error})\")\n",
    "    return[rmse,mae,mape]\n",
    "\n",
    "\n",
    "def save_pkl(data, path):\n",
    "    try:\n",
    "        with open(path, \"wb\") as saved_data:\n",
    "            pickle.dump(data, saved_data)\n",
    "    except:\n",
    "        print('Fail to save data')\n",
    "\n",
    "def load_pkl(path):\n",
    "    try:\n",
    "        with open(path, \"rb\") as loaded_data:\n",
    "            to_return = pickle.load(loaded_data)\n",
    "        return to_return\n",
    "    except:\n",
    "        print('Fail to load data')\n",
    "        return None"
   ]
  },
  {
   "cell_type": "markdown",
   "metadata": {},
   "source": [
    "#### As features que selecionamos no final, com base na otimização do algoritmo foram:\n",
    "\n",
    "- \"day_of_week\"\n",
    "- \"daily_return_1\"\n",
    "- \"daily_return_2\"\n",
    "- \"daily_return_3\"\n",
    "- \"weekly_return\"\n",
    "- \"volatility_prev_day\"\n",
    "- \"deviation\""
   ]
  },
  {
   "cell_type": "code",
   "execution_count": 2,
   "metadata": {},
   "outputs": [],
   "source": [
    "def data_engineering(dataset) -> pd.DataFrame:\n",
    "    final_df = pd.DataFrame()\n",
    "    # garantir que index esta como data\n",
    "    dataset.index = pd.to_datetime(dataset.index)\n",
    "\n",
    "    for company in dataset[\"ticker\"].unique():\n",
    "        sub_set = dataset[dataset[\"ticker\"] == company].copy()\n",
    "\n",
    "        sub_set['day_of_week'] = sub_set.index.dayofweek  # 0=segunda, 1=terca, ... , 4=sexta\n",
    "        sub_set['close_prev_day'] = sub_set['close'].shift(1)\n",
    "        sub_set['close_last_week'] = sub_set['close'].shift(5) # cada semana tem 5 dias de tradding\n",
    "\n",
    "        # crescimento do ultimos 3 dias\n",
    "        sub_set['daily_return_1'] = round((sub_set[\"close\"]-sub_set[\"open\"])/ sub_set[\"open\"],6).shift(1)\n",
    "        sub_set['daily_return_2'] = round((sub_set[\"close\"]-sub_set[\"open\"])/ sub_set[\"open\"],6).shift(2)\n",
    "        sub_set['daily_return_3'] = round((sub_set[\"close\"]-sub_set[\"open\"])/ sub_set[\"open\"],6).shift(3)\n",
    "        # crescimento da ultima semana\n",
    "        sub_set['weekly_return'] = round((sub_set[\"close_prev_day\"]-sub_set[\"close_last_week\"])/ sub_set[\"close_last_week\"],6)\n",
    "        # volatilidade do dia anterior\n",
    "        sub_set['volatility_prev_day'] = round((sub_set['high'] - sub_set['low']) / sub_set['open'],6).shift(1)\n",
    "\n",
    "        sub_set['deviation'] = sub_set['daily_return_1'].rolling(window=20).std()\n",
    "\n",
    "\n",
    "        sub_set['target'] = round((sub_set[\"close\"]-sub_set[\"open\"])/ sub_set[\"open\"],6)\n",
    "\n",
    "        final_df = pd.concat([final_df,sub_set])\n",
    "\n",
    "    final_df = final_df.dropna()\n",
    "    final_df = final_df.drop(['close_prev_day', 'close_last_week'], axis=1)\n",
    "\n",
    "    return final_df\n"
   ]
  },
  {
   "cell_type": "markdown",
   "metadata": {},
   "source": [
    "### Exemplo da Criação de um Modelo\n",
    "Vamos demonstrar como funciona para criar um modelo para o setor \"Industrials\""
   ]
  },
  {
   "cell_type": "code",
   "execution_count": 3,
   "metadata": {},
   "outputs": [],
   "source": [
    "df_train = pd.read_csv(\"dataset_by_sector/train/Industrials.csv\", index_col=0)\n",
    "df_test = pd.read_csv(\"dataset_by_sector/test/Industrials.csv\", index_col=0)\n",
    "df_train = data_engineering(df_train.copy())\n",
    "df_test = data_engineering(df_test.copy())"
   ]
  },
  {
   "cell_type": "code",
   "execution_count": 4,
   "metadata": {},
   "outputs": [
    {
     "data": {
      "text/html": [
       "<div>\n",
       "<style scoped>\n",
       "    .dataframe tbody tr th:only-of-type {\n",
       "        vertical-align: middle;\n",
       "    }\n",
       "\n",
       "    .dataframe tbody tr th {\n",
       "        vertical-align: top;\n",
       "    }\n",
       "\n",
       "    .dataframe thead th {\n",
       "        text-align: right;\n",
       "    }\n",
       "</style>\n",
       "<table border=\"1\" class=\"dataframe\">\n",
       "  <thead>\n",
       "    <tr style=\"text-align: right;\">\n",
       "      <th></th>\n",
       "      <th>open</th>\n",
       "      <th>high</th>\n",
       "      <th>low</th>\n",
       "      <th>close</th>\n",
       "      <th>adjclose</th>\n",
       "      <th>volume</th>\n",
       "      <th>ticker</th>\n",
       "      <th>day_of_week</th>\n",
       "      <th>daily_return_1</th>\n",
       "      <th>daily_return_2</th>\n",
       "      <th>daily_return_3</th>\n",
       "      <th>weekly_return</th>\n",
       "      <th>volatility_prev_day</th>\n",
       "      <th>deviation</th>\n",
       "      <th>target</th>\n",
       "    </tr>\n",
       "  </thead>\n",
       "  <tbody>\n",
       "    <tr>\n",
       "      <th>2023-11-01</th>\n",
       "      <td>48.029999</td>\n",
       "      <td>50.020000</td>\n",
       "      <td>47.634998</td>\n",
       "      <td>49.660000</td>\n",
       "      <td>49.066383</td>\n",
       "      <td>5725500</td>\n",
       "      <td>CARR</td>\n",
       "      <td>2</td>\n",
       "      <td>0.006760</td>\n",
       "      <td>0.008731</td>\n",
       "      <td>0.008458</td>\n",
       "      <td>0.013180</td>\n",
       "      <td>0.020490</td>\n",
       "      <td>0.022156</td>\n",
       "      <td>0.033937</td>\n",
       "    </tr>\n",
       "    <tr>\n",
       "      <th>2023-11-02</th>\n",
       "      <td>50.740002</td>\n",
       "      <td>50.990002</td>\n",
       "      <td>49.810001</td>\n",
       "      <td>49.970001</td>\n",
       "      <td>49.372677</td>\n",
       "      <td>5897400</td>\n",
       "      <td>CARR</td>\n",
       "      <td>3</td>\n",
       "      <td>0.033937</td>\n",
       "      <td>0.006760</td>\n",
       "      <td>0.008731</td>\n",
       "      <td>0.070259</td>\n",
       "      <td>0.049657</td>\n",
       "      <td>0.023279</td>\n",
       "      <td>-0.015175</td>\n",
       "    </tr>\n",
       "    <tr>\n",
       "      <th>2023-11-03</th>\n",
       "      <td>50.919998</td>\n",
       "      <td>52.419998</td>\n",
       "      <td>50.470001</td>\n",
       "      <td>50.529999</td>\n",
       "      <td>49.925976</td>\n",
       "      <td>4212000</td>\n",
       "      <td>CARR</td>\n",
       "      <td>4</td>\n",
       "      <td>-0.015175</td>\n",
       "      <td>0.033937</td>\n",
       "      <td>0.006760</td>\n",
       "      <td>0.074624</td>\n",
       "      <td>0.023256</td>\n",
       "      <td>0.023323</td>\n",
       "      <td>-0.007659</td>\n",
       "    </tr>\n",
       "    <tr>\n",
       "      <th>2023-11-06</th>\n",
       "      <td>50.419998</td>\n",
       "      <td>50.630001</td>\n",
       "      <td>49.919998</td>\n",
       "      <td>50.270000</td>\n",
       "      <td>49.669090</td>\n",
       "      <td>3496700</td>\n",
       "      <td>CARR</td>\n",
       "      <td>0</td>\n",
       "      <td>-0.007659</td>\n",
       "      <td>-0.015175</td>\n",
       "      <td>0.033937</td>\n",
       "      <td>0.066709</td>\n",
       "      <td>0.038295</td>\n",
       "      <td>0.020020</td>\n",
       "      <td>-0.002975</td>\n",
       "    </tr>\n",
       "    <tr>\n",
       "      <th>2023-11-07</th>\n",
       "      <td>50.119999</td>\n",
       "      <td>50.490002</td>\n",
       "      <td>49.620998</td>\n",
       "      <td>50.450001</td>\n",
       "      <td>49.846939</td>\n",
       "      <td>3605500</td>\n",
       "      <td>CARR</td>\n",
       "      <td>1</td>\n",
       "      <td>-0.002975</td>\n",
       "      <td>-0.007659</td>\n",
       "      <td>-0.015175</td>\n",
       "      <td>0.054763</td>\n",
       "      <td>0.014082</td>\n",
       "      <td>0.019053</td>\n",
       "      <td>0.006584</td>\n",
       "    </tr>\n",
       "  </tbody>\n",
       "</table>\n",
       "</div>"
      ],
      "text/plain": [
       "                 open       high        low      close   adjclose   volume  \\\n",
       "2023-11-01  48.029999  50.020000  47.634998  49.660000  49.066383  5725500   \n",
       "2023-11-02  50.740002  50.990002  49.810001  49.970001  49.372677  5897400   \n",
       "2023-11-03  50.919998  52.419998  50.470001  50.529999  49.925976  4212000   \n",
       "2023-11-06  50.419998  50.630001  49.919998  50.270000  49.669090  3496700   \n",
       "2023-11-07  50.119999  50.490002  49.620998  50.450001  49.846939  3605500   \n",
       "\n",
       "           ticker  day_of_week  daily_return_1  daily_return_2  \\\n",
       "2023-11-01   CARR            2        0.006760        0.008731   \n",
       "2023-11-02   CARR            3        0.033937        0.006760   \n",
       "2023-11-03   CARR            4       -0.015175        0.033937   \n",
       "2023-11-06   CARR            0       -0.007659       -0.015175   \n",
       "2023-11-07   CARR            1       -0.002975       -0.007659   \n",
       "\n",
       "            daily_return_3  weekly_return  volatility_prev_day  deviation  \\\n",
       "2023-11-01        0.008458       0.013180             0.020490   0.022156   \n",
       "2023-11-02        0.008731       0.070259             0.049657   0.023279   \n",
       "2023-11-03        0.006760       0.074624             0.023256   0.023323   \n",
       "2023-11-06        0.033937       0.066709             0.038295   0.020020   \n",
       "2023-11-07       -0.015175       0.054763             0.014082   0.019053   \n",
       "\n",
       "              target  \n",
       "2023-11-01  0.033937  \n",
       "2023-11-02 -0.015175  \n",
       "2023-11-03 -0.007659  \n",
       "2023-11-06 -0.002975  \n",
       "2023-11-07  0.006584  "
      ]
     },
     "execution_count": 4,
     "metadata": {},
     "output_type": "execute_result"
    }
   ],
   "source": [
    "df_test.head()"
   ]
  },
  {
   "cell_type": "markdown",
   "metadata": {},
   "source": [
    "### Exemplo de Treino e Teste do Modelo"
   ]
  },
  {
   "cell_type": "code",
   "execution_count": 8,
   "metadata": {},
   "outputs": [],
   "source": [
    "predictors = ['day_of_week', 'daily_return_1', 'daily_return_2', 'daily_return_3','weekly_return', 'volatility_prev_day','deviation']\n",
    "# dividir os dados em treino e teste\n",
    "X_train = df_train[predictors]\n",
    "y_train = df_train['target']  # target\n",
    "X_test = df_test[predictors]\n",
    "y_test = df_test['target']  # target\n",
    "\n",
    "# treinar a random forest regressor\n",
    "rf = RandomForestRegressor(n_estimators= 500, min_samples_split = 50, random_state=42)\n",
    "rf.fit(X_train, y_train)\n",
    "\n",
    "# prever\n",
    "y_pred = rf.predict(X_test)"
   ]
  },
  {
   "cell_type": "code",
   "execution_count": null,
   "metadata": {},
   "outputs": [
    {
     "name": "stdout",
     "output_type": "stream",
     "text": [
      "Root Mean Squared Error (RMSE): 0.01469\n",
      "Mean Absolute Error (MAE): 0.00959\n",
      "Mean Absolute Percentage Error (MAPE): 22.664% - (casos onde y_test=0: 0)\n"
     ]
    },
    {
     "data": {
      "text/plain": [
       "array([0.01781738, 0.1726657 , 0.15436483, 0.12988959, 0.12728492,\n",
       "       0.17448652, 0.22349107])"
      ]
     },
     "metadata": {},
     "output_type": "display_data"
    }
   ],
   "source": [
    "performance_metrics(y_pred,y_test)\n",
    "rf.feature_importances_"
   ]
  },
  {
   "cell_type": "markdown",
   "metadata": {},
   "source": [
    "### Atributos com Maior Impacto\n",
    "Exploramos quais os atributos que contribuem para as decisões do modelo"
   ]
  },
  {
   "cell_type": "code",
   "execution_count": 9,
   "metadata": {},
   "outputs": [
    {
     "data": {
      "image/png": "[encoded data removed]",
      "text/plain": [
       "<Figure size 800x430 with 2 Axes>"
      ]
     },
     "metadata": {},
     "output_type": "display_data"
    }
   ],
   "source": [
    "import shap\n",
    "\n",
    "# Explainer\n",
    "explainer = shap.TreeExplainer(rf)\n",
    "shap_values = explainer.shap_values(X_test)\n",
    "\n",
    "# Visualize a single prediction\n",
    "shap.force_plot(explainer.expected_value, shap_values[0], X_test.iloc[0])\n",
    "\n",
    "# Summary plot for all predictions\n",
    "shap.summary_plot(shap_values, X_test, feature_names=X_test.columns)\n"
   ]
  },
  {
   "cell_type": "markdown",
   "metadata": {},
   "source": [
    "### Valores Reais VS Valores Previstos"
   ]
  },
  {
   "cell_type": "code",
   "execution_count": 12,
   "metadata": {},
   "outputs": [
    {
     "name": "stdout",
     "output_type": "stream",
     "text": [
      "Valor de crescimento diário ao longo do mes de novembro e dezembro de 2023\n",
      "No setor 'Consumer_Discretionary' com 30 empresas\n",
      "Valor real: 0.010734 | -0.000447 :Valor previsto \n",
      "Valor real: 0.002384 | -0.003666 :Valor previsto \n",
      "Valor real: 0.024909 | 0.000238 :Valor previsto \n",
      "Valor real: -0.011532 | 0.003928 :Valor previsto \n",
      "Valor real: -0.002536 | -0.002377 :Valor previsto \n",
      "Valor real: 0.022628 | 0.001857 :Valor previsto \n",
      "Valor real: -0.063111 | 0.001670 :Valor previsto \n",
      "Valor real: 0.008235 | 0.005501 :Valor previsto \n",
      "Valor real: 0.001787 | -0.004118 :Valor previsto \n",
      "Valor real: 0.000994 | -0.001255 :Valor previsto \n",
      "Valor real: -0.004144 | 0.001883 :Valor previsto \n",
      "Valor real: 0.003197 | 0.000556 :Valor previsto \n",
      "Valor real: -0.006535 | 0.002298 :Valor previsto \n",
      "Valor real: 0.008245 | 0.002787 :Valor previsto \n",
      "Valor real: 0.010708 | 0.003567 :Valor previsto \n",
      "Valor real: -0.006829 | 0.003924 :Valor previsto \n",
      "Valor real: 0.005635 | -0.000820 :Valor previsto \n",
      "Valor real: 0.003519 | 0.004390 :Valor previsto \n",
      "Valor real: -0.005823 | 0.002608 :Valor previsto \n",
      "Valor real: -0.012979 | 0.002328 :Valor previsto \n",
      "Valor real: 0.015282 | 0.002057 :Valor previsto \n",
      "Valor real: 0.007134 | 0.001969 :Valor previsto \n",
      "Valor real: 0.029094 | -0.000424 :Valor previsto \n",
      "Valor real: -0.009828 | 0.000139 :Valor previsto \n",
      "Valor real: -0.00129 | -0.001846 :Valor previsto \n",
      "Valor real: 0.008572 | 0.001594 :Valor previsto \n",
      "Valor real: 0.00412 | 0.000548 :Valor previsto \n",
      "Valor real: 0.007553 | 0.004263 :Valor previsto \n",
      "Valor real: 0.009302 | 0.003060 :Valor previsto \n",
      "Valor real: 0.024533 | 0.000653 :Valor previsto \n",
      "Valor real: 0.01248 | 0.002750 :Valor previsto \n",
      "Valor real: 0.012139 | -0.000607 :Valor previsto \n",
      "Valor real: 0.008798 | -0.000977 :Valor previsto \n",
      "Valor real: -0.006869 | 0.000844 :Valor previsto \n",
      "Valor real: -0.012309 | 0.000262 :Valor previsto \n",
      "Valor real: -0.000389 | 0.000372 :Valor previsto \n",
      "Valor real: 0.002826 | 0.001419 :Valor previsto \n",
      "Valor real: 0.000659 | 0.000999 :Valor previsto \n",
      "Valor real: 0.004926 | 0.004088 :Valor previsto \n",
      "Valor real: -0.004082 | 0.003984 :Valor previsto \n",
      "Valor real: 0.001279 | 0.002338 :Valor previsto \n"
     ]
    }
   ],
   "source": [
    "print(\"Valor de crescimento diário ao longo do mes de novembro e dezembro de 2023\\nNo setor 'Industrials' com 30 empresas\")\n",
    "for i in range(len(y_test)):\n",
    "    print(f\"Valor real: {y_test.iloc[i]} | {y_pred[i]:.6f} :Valor previsto \")"
   ]
  },
  {
   "cell_type": "code",
   "execution_count": 15,
   "metadata": {},
   "outputs": [
    {
     "data": {
      "image/png": "[encoded data removed]",
      "text/plain": [
       "<Figure size 640x480 with 1 Axes>"
      ]
     },
     "metadata": {},
     "output_type": "display_data"
    }
   ],
   "source": [
    "plt.scatter(y_test, y_pred, alpha=0.3)\n",
    "plt.xlabel(\"Actual Values\")\n",
    "plt.ylabel(\"Predicted Values\")\n",
    "plt.title(\"Actual vs Predicted\")\n",
    "plt.show()\n"
   ]
  },
  {
   "cell_type": "markdown",
   "metadata": {},
   "source": [
    "### Hyper-Parameter Tunning\n",
    "\n",
    "Especifico para cada setor\n",
    "\n",
    "Ordem dos setores: \n",
    "\n",
    "  0 - 'Consumer_Discretionary'\n",
    "\n",
    "  1 - 'Energy'\n",
    "\n",
    "  2 -'Health_Care'\n",
    "\n",
    "  3 - 'Industrials'\n",
    "  \n",
    "  4 - 'Information_Technology'"
   ]
  },
  {
   "cell_type": "code",
   "execution_count": 17,
   "metadata": {},
   "outputs": [
    {
     "name": "stdout",
     "output_type": "stream",
     "text": [
      "Setor: Consumer_Discretionary\n"
     ]
    },
    {
     "name": "stderr",
     "output_type": "stream",
     "text": [
      "[Parallel(n_jobs=-1)]: Using backend LokyBackend with 12 concurrent workers.\n",
      "[Parallel(n_jobs=-1)]: Done   1 tasks      | elapsed:  5.2min\n",
      "[Parallel(n_jobs=-1)]: Done   8 tasks      | elapsed:  9.0min\n",
      "[Parallel(n_jobs=-1)]: Done  17 tasks      | elapsed: 14.5min\n",
      "[Parallel(n_jobs=-1)]: Done  26 tasks      | elapsed: 19.5min\n",
      "[Parallel(n_jobs=-1)]: Done  37 tasks      | elapsed: 23.5min\n",
      "[Parallel(n_jobs=-1)]: Done  48 tasks      | elapsed: 26.0min\n",
      "[Parallel(n_jobs=-1)]: Done  61 tasks      | elapsed: 28.7min\n",
      "[Parallel(n_jobs=-1)]: Done  74 tasks      | elapsed: 32.7min\n",
      "[Parallel(n_jobs=-1)]: Done  89 tasks      | elapsed: 40.4min\n",
      "[Parallel(n_jobs=-1)]: Done 104 tasks      | elapsed: 48.2min\n",
      "[Parallel(n_jobs=-1)]: Done 121 tasks      | elapsed: 59.1min\n",
      "[Parallel(n_jobs=-1)]: Done 136 out of 144 | elapsed: 67.9min remaining:  4.0min\n",
      "[Parallel(n_jobs=-1)]: Done 144 out of 144 | elapsed: 73.2min finished\n"
     ]
    },
    {
     "name": "stdout",
     "output_type": "stream",
     "text": [
      "\n",
      "Setor: Energy\n"
     ]
    },
    {
     "name": "stderr",
     "output_type": "stream",
     "text": [
      "[Parallel(n_jobs=-1)]: Using backend LokyBackend with 12 concurrent workers.\n",
      "[Parallel(n_jobs=-1)]: Done   1 tasks      | elapsed:  2.7min\n",
      "[Parallel(n_jobs=-1)]: Done   8 tasks      | elapsed:  5.5min\n",
      "[Parallel(n_jobs=-1)]: Done  17 tasks      | elapsed:  9.0min\n",
      "[Parallel(n_jobs=-1)]: Done  26 tasks      | elapsed: 12.3min\n",
      "[Parallel(n_jobs=-1)]: Done  37 tasks      | elapsed: 14.7min\n",
      "[Parallel(n_jobs=-1)]: Done  48 tasks      | elapsed: 16.6min\n",
      "[Parallel(n_jobs=-1)]: Done  61 tasks      | elapsed: 18.3min\n",
      "[Parallel(n_jobs=-1)]: Done  74 tasks      | elapsed: 20.8min\n",
      "[Parallel(n_jobs=-1)]: Done  89 tasks      | elapsed: 26.8min\n",
      "[Parallel(n_jobs=-1)]: Done 104 tasks      | elapsed: 31.6min\n",
      "[Parallel(n_jobs=-1)]: Done 121 tasks      | elapsed: 38.5min\n",
      "[Parallel(n_jobs=-1)]: Done 136 out of 144 | elapsed: 44.1min remaining:  2.6min\n",
      "[Parallel(n_jobs=-1)]: Done 144 out of 144 | elapsed: 47.8min finished\n"
     ]
    },
    {
     "name": "stdout",
     "output_type": "stream",
     "text": [
      "\n",
      "Setor: Health_Care\n"
     ]
    },
    {
     "name": "stderr",
     "output_type": "stream",
     "text": [
      "[Parallel(n_jobs=-1)]: Using backend LokyBackend with 12 concurrent workers.\n",
      "[Parallel(n_jobs=-1)]: Done   1 tasks      | elapsed:  3.6min\n",
      "[Parallel(n_jobs=-1)]: Done   8 tasks      | elapsed:  7.2min\n",
      "[Parallel(n_jobs=-1)]: Done  17 tasks      | elapsed: 11.4min\n",
      "[Parallel(n_jobs=-1)]: Done  26 tasks      | elapsed: 16.2min\n",
      "[Parallel(n_jobs=-1)]: Done  37 tasks      | elapsed: 19.5min\n",
      "[Parallel(n_jobs=-1)]: Done  48 tasks      | elapsed: 21.8min\n",
      "[Parallel(n_jobs=-1)]: Done  61 tasks      | elapsed: 24.2min\n",
      "[Parallel(n_jobs=-1)]: Done  74 tasks      | elapsed: 27.4min\n",
      "[Parallel(n_jobs=-1)]: Done  89 tasks      | elapsed: 35.0min\n",
      "[Parallel(n_jobs=-1)]: Done 104 tasks      | elapsed: 41.7min\n",
      "[Parallel(n_jobs=-1)]: Done 121 tasks      | elapsed: 51.4min\n",
      "[Parallel(n_jobs=-1)]: Done 136 out of 144 | elapsed: 58.1min remaining:  3.4min\n",
      "[Parallel(n_jobs=-1)]: Done 144 out of 144 | elapsed: 63.0min finished\n"
     ]
    },
    {
     "name": "stdout",
     "output_type": "stream",
     "text": [
      "\n",
      "Setor: Industrials\n"
     ]
    },
    {
     "name": "stderr",
     "output_type": "stream",
     "text": [
      "[Parallel(n_jobs=-1)]: Using backend LokyBackend with 12 concurrent workers.\n",
      "[Parallel(n_jobs=-1)]: Done   1 tasks      | elapsed:  3.7min\n",
      "[Parallel(n_jobs=-1)]: Done   8 tasks      | elapsed:  7.9min\n",
      "[Parallel(n_jobs=-1)]: Done  17 tasks      | elapsed: 12.0min\n",
      "[Parallel(n_jobs=-1)]: Done  26 tasks      | elapsed: 17.3min\n",
      "[Parallel(n_jobs=-1)]: Done  37 tasks      | elapsed: 20.5min\n",
      "[Parallel(n_jobs=-1)]: Done  48 tasks      | elapsed: 22.6min\n",
      "[Parallel(n_jobs=-1)]: Done  61 tasks      | elapsed: 24.9min\n",
      "[Parallel(n_jobs=-1)]: Done  74 tasks      | elapsed: 28.3min\n",
      "[Parallel(n_jobs=-1)]: Done  89 tasks      | elapsed: 35.8min\n",
      "[Parallel(n_jobs=-1)]: Done 104 tasks      | elapsed: 42.0min\n",
      "[Parallel(n_jobs=-1)]: Done 121 tasks      | elapsed: 51.8min\n",
      "[Parallel(n_jobs=-1)]: Done 136 out of 144 | elapsed: 59.6min remaining:  3.5min\n",
      "[Parallel(n_jobs=-1)]: Done 144 out of 144 | elapsed: 64.2min finished\n"
     ]
    },
    {
     "name": "stdout",
     "output_type": "stream",
     "text": [
      "\n",
      "Setor: Information_Technology\n"
     ]
    },
    {
     "name": "stderr",
     "output_type": "stream",
     "text": [
      "[Parallel(n_jobs=-1)]: Using backend LokyBackend with 12 concurrent workers.\n",
      "[Parallel(n_jobs=-1)]: Done   1 tasks      | elapsed:  3.3min\n",
      "[Parallel(n_jobs=-1)]: Done   8 tasks      | elapsed:  7.1min\n",
      "[Parallel(n_jobs=-1)]: Done  17 tasks      | elapsed: 10.7min\n",
      "[Parallel(n_jobs=-1)]: Done  26 tasks      | elapsed: 15.7min\n",
      "[Parallel(n_jobs=-1)]: Done  37 tasks      | elapsed: 18.6min\n",
      "[Parallel(n_jobs=-1)]: Done  48 tasks      | elapsed: 21.2min\n",
      "[Parallel(n_jobs=-1)]: Done  61 tasks      | elapsed: 23.5min\n",
      "[Parallel(n_jobs=-1)]: Done  74 tasks      | elapsed: 26.7min\n",
      "[Parallel(n_jobs=-1)]: Done  89 tasks      | elapsed: 34.7min\n",
      "[Parallel(n_jobs=-1)]: Done 104 tasks      | elapsed: 40.9min\n",
      "[Parallel(n_jobs=-1)]: Done 121 tasks      | elapsed: 49.5min\n",
      "[Parallel(n_jobs=-1)]: Done 136 out of 144 | elapsed: 57.0min remaining:  3.4min\n"
     ]
    },
    {
     "name": "stdout",
     "output_type": "stream",
     "text": [
      "\n"
     ]
    },
    {
     "name": "stderr",
     "output_type": "stream",
     "text": [
      "[Parallel(n_jobs=-1)]: Done 144 out of 144 | elapsed: 61.8min finished\n"
     ]
    }
   ],
   "source": [
    "if not os.path.exists(\"models_test/\"):\n",
    "    os.mkdir(\"models_test/\")\n",
    "\n",
    "\n",
    "path_train = \"dataset_by_sector/train/\"\n",
    "train_df = os.listdir(path_train)\n",
    "\n",
    "path_test = \"dataset_by_sector/test/\"\n",
    "test_df = os.listdir(path_test)\n",
    "\n",
    "metrics = {}\n",
    "\n",
    "# hyper-parametros\n",
    "param_grid = {\n",
    "    'n_estimators': [100, 200, 300],\n",
    "    'max_depth': [None, 10, 30, 50],\n",
    "    'min_samples_split': [5, 10, 20, 40],\n",
    "    'min_samples_leaf': [10, 25, 40],\n",
    "}\n",
    "\n",
    "\n",
    "def evaluate_model(params,df_train,df_test):\n",
    "    predictores = [\"day_of_week\", \"daily_return_1\", \"daily_return_2\", \"daily_return_3\", \"weekly_return\", \"volatility_prev_day\",\"deviation\"]\n",
    "    \n",
    "    # features and target\n",
    "    X_train = df_train[predictores]\n",
    "    y_train = df_train['target']\n",
    "    \n",
    "    X_test = df_test[predictores]\n",
    "    y_test = df_test['target']\n",
    "    \n",
    "    model = RandomForestRegressor(**params, random_state=42)\n",
    "    model.fit(X_train, y_train)\n",
    "    y_pred = model.predict(X_test)\n",
    "    perf = performance_metrics(y_pred, y_test)  # metrica costumizada\n",
    "    return params, {\"rmse\": perf[0], \"mae\": perf[1], \"mape\":perf[2]}\n",
    "\n",
    "\n",
    "for i in range(len(test_df)):\n",
    "    print(f\"Setor: {train_df[i].split('.')[0]}\")\n",
    "    \n",
    "    data_train = data_engineering(pd.read_csv(path_train+train_df[i],index_col=0))\n",
    "    data_test = data_engineering(pd.read_csv(path_test+test_df[i],index_col=0))\n",
    "    \n",
    "    # correr a grid search em paralelo, mais rapido\n",
    "    results = Parallel(n_jobs=-1, verbose=10)(\n",
    "        delayed(evaluate_model)(params,data_train,data_test) for params in ParameterGrid(param_grid)\n",
    "    )    \n",
    "    print()\n",
    "    \n",
    "    save_pkl(results,f\"models_test/metrics_{train_df[i].split('.')[0]}.pkl\")"
   ]
  },
  {
   "cell_type": "markdown",
   "metadata": {},
   "source": [
    "### Os Melhores Hiper Parametros para cada Setor"
   ]
  },
  {
   "cell_type": "code",
   "execution_count": 19,
   "metadata": {},
   "outputs": [
    {
     "name": "stdout",
     "output_type": "stream",
     "text": [
      "\n",
      "Consumer_Discretionary\n",
      "Best Parameters: {'max_depth': 10, 'min_samples_leaf': 10, 'min_samples_split': 40, 'n_estimators': 100}\n",
      "Metricas: {'rmse': np.float64(0.013719808137761145), 'mae': 0.009769323141713089, 'mape': np.float64(12.678276289714598)}\n",
      "\n",
      "Energy\n",
      "Best Parameters: {'max_depth': 50, 'min_samples_leaf': 25, 'min_samples_split': 5, 'n_estimators': 100}\n",
      "Metricas: {'rmse': np.float64(0.013657716266990324), 'mae': 0.010109892046573678, 'mape': np.float64(0.04490680235469049)}\n",
      "\n",
      "Health_Care\n",
      "Best Parameters: {'max_depth': 10, 'min_samples_leaf': 40, 'min_samples_split': 5, 'n_estimators': 200}\n",
      "Metricas: {'rmse': np.float64(0.015907543868629897), 'mae': 0.011049038449290819, 'mape': np.float64(1.8180683265219828)}\n",
      "\n",
      "Industrials\n",
      "Best Parameters: {'max_depth': 10, 'min_samples_leaf': 10, 'min_samples_split': 5, 'n_estimators': 200}\n",
      "Metricas: {'rmse': np.float64(0.01261414180671116), 'mae': 0.008902313654960121, 'mape': np.float64(9.228519199190284)}\n",
      "\n",
      "Information_Technology\n",
      "Best Parameters: {'max_depth': 10, 'min_samples_leaf': 10, 'min_samples_split': 40, 'n_estimators': 100}\n",
      "Metricas: {'rmse': np.float64(0.019341792885995916), 'mae': 0.013165626996874865, 'mape': np.float64(12.679860301616657)}\n"
     ]
    }
   ],
   "source": [
    "# visualizar os melhores hiper parametros para cada setor\n",
    "\n",
    "for metrics_path in os.listdir(\"models_teste2/\"):\n",
    "    results = load_pkl(f\"models_teste2/{metrics_path}\")\n",
    "    # os melhores parametros com base no MAPE\n",
    "    best_params = None\n",
    "    best_MAPE = float(\"inf\")  # mais proximo de 0 melhor\n",
    "    metricas = None\n",
    "\n",
    "\n",
    "    for params, met in results:\n",
    "        if abs(met[\"mape\"]) < abs(best_MAPE):\n",
    "            best_MAPE = met[\"mape\"]\n",
    "            metricas = met\n",
    "            best_params = params\n",
    "    print(f\"\\n{metrics_path[8:-4]}\")\n",
    "    print(\"Best Parameters:\", best_params)\n",
    "    print(\"Metricas:\", metricas)"
   ]
  },
  {
   "cell_type": "markdown",
   "metadata": {},
   "source": [
    "<hr>"
   ]
  },
  {
   "cell_type": "markdown",
   "metadata": {},
   "source": [
    "### Guardar dados finais e Criar Modelos\n",
    "\n",
    "- Vamos guardar os datasets finais com os dados gerados\n",
    "\n",
    "- Com os hyper parametros obtidos vamos agora criar os respetivos modelos para cada setor"
   ]
  },
  {
   "cell_type": "code",
   "execution_count": 24,
   "metadata": {},
   "outputs": [],
   "source": [
    "if not os.path.exists(\"models/\"):\n",
    "    os.mkdir(\"models/\")\n",
    "\n",
    "if not os.path.exists(\"data/\"):\n",
    "    os.mkdir(\"data/\")\n",
    "if not os.path.exists(\"data/train\"):\n",
    "    os.mkdir(\"data/train\")\n",
    "if not os.path.exists(\"data/test\"):\n",
    "    os.mkdir(\"data/test\")\n",
    "if not os.path.exists(\"data/simulation/\"):\n",
    "    os.mkdir(\"data/simulation/\")\n",
    "\n",
    "params =[{'max_depth': 10, 'min_samples_leaf': 10, 'min_samples_split': 40, 'n_estimators': 100}, # Consumer_Discretionary\n",
    "         {'max_depth': 50, 'min_samples_leaf': 25, 'min_samples_split': 5, 'n_estimators': 100}, # Energy\n",
    "         {'max_depth': 10, 'min_samples_leaf': 40, 'min_samples_split': 5, 'n_estimators': 200}, # Health_Care\n",
    "         {'max_depth': 10, 'min_samples_leaf': 10, 'min_samples_split': 5, 'n_estimators': 200}, # Industrials\n",
    "         {'max_depth': 10, 'min_samples_leaf': 10, 'min_samples_split': 40, 'n_estimators': 100}] # Information_Technology\n",
    "\n",
    "predictores = [\"day_of_week\", \"daily_return_1\", \"daily_return_2\", \"daily_return_3\", \"weekly_return\", \"volatility_prev_day\",\"deviation\"]\n",
    "\n",
    "path_train = \"dataset_by_sector/train/\"\n",
    "train_df = os.listdir(path_train)\n",
    "\n",
    "path_test = \"dataset_by_sector/test/\"\n",
    "test_df = os.listdir(path_test)\n",
    "\n",
    "path_simu = \"dataset_by_sector/simulate/\"\n",
    "simu_df = os.listdir(path_simu)\n"
   ]
  },
  {
   "cell_type": "markdown",
   "metadata": {},
   "source": [
    "#### Guadar dados"
   ]
  },
  {
   "cell_type": "code",
   "execution_count": 25,
   "metadata": {},
   "outputs": [],
   "source": [
    "for i in range(len(test_df)):\n",
    "    data_train = data_engineering(pd.read_csv(path_train+train_df[i],index_col=0))\n",
    "    data_test = data_engineering(pd.read_csv(path_test+test_df[i],index_col=0))\n",
    "    data_simu = data_engineering(pd.read_csv(path_simu+simu_df[i],index_col=0))\n",
    "    \n",
    "    data_train.to_csv(f\"data/train/{train_df[i]}\")\n",
    "    data_test.to_csv(f\"data/test/{test_df[i]}\")\n",
    "    data_simu.to_csv(f\"data/simulation/{simu_df[i]}\")"
   ]
  },
  {
   "cell_type": "markdown",
   "metadata": {},
   "source": [
    "#### Gerar Modelos"
   ]
  },
  {
   "cell_type": "code",
   "execution_count": 26,
   "metadata": {},
   "outputs": [
    {
     "name": "stdout",
     "output_type": "stream",
     "text": [
      "\n",
      "Setor: Consumer_Discretionary\n",
      "Root Mean Squared Error (RMSE): 0.01372\n",
      "Mean Absolute Error (MAE): 0.00977\n",
      "Mean Absolute Percentage Error (MAPE): 12.678% - (casos onde y_test=0: 1)\n",
      "\n",
      "\n",
      "Setor: Energy\n",
      "Root Mean Squared Error (RMSE): 0.01366\n",
      "Mean Absolute Error (MAE): 0.01011\n",
      "Mean Absolute Percentage Error (MAPE): 0.044907% - (casos onde y_test=0: 2)\n",
      "\n",
      "\n",
      "Setor: Health_Care\n",
      "Root Mean Squared Error (RMSE): 0.01591\n",
      "Mean Absolute Error (MAE): 0.01105\n",
      "Mean Absolute Percentage Error (MAPE): 1.8181% - (casos onde y_test=0: 2)\n",
      "\n",
      "\n",
      "Setor: Industrials\n",
      "Root Mean Squared Error (RMSE): 0.01261\n",
      "Mean Absolute Error (MAE): 0.00890\n",
      "Mean Absolute Percentage Error (MAPE): 9.2285% - (casos onde y_test=0: 6)\n",
      "\n",
      "\n",
      "Setor: Information_Technology\n",
      "Root Mean Squared Error (RMSE): 0.01934\n",
      "Mean Absolute Error (MAE): 0.01317\n",
      "Mean Absolute Percentage Error (MAPE): 12.68% - (casos onde y_test=0: 2)\n",
      "\n"
     ]
    }
   ],
   "source": [
    "metrics = {}\n",
    "\n",
    "for i in range(len(test_df)):\n",
    "    sector = train_df[i].split(\".\")[0]\n",
    "    print(f\"\\nSetor: {sector}\")\n",
    "   \n",
    "    data_train = data_engineering(pd.read_csv(path_train+train_df[i],index_col=0))\n",
    "    data_test = data_engineering(pd.read_csv(path_test+test_df[i],index_col=0))\n",
    "\n",
    "    # features and target\n",
    "    X_train = data_train[predictores]\n",
    "    y_train = data_train['target']\n",
    "    \n",
    "    X_test = data_test[predictores]\n",
    "    y_test = data_test['target']\n",
    "    \n",
    "    model = RandomForestRegressor(**params[i], random_state=42)\n",
    "    model.fit(X_train,y_train)\n",
    "    \n",
    "    y_pred = model.predict(X_test)\n",
    "    perf = performance_metrics(y_pred, y_test)\n",
    "    metrics[sector] = {\"rmse\": perf[0], \"mae\": perf[1], \"mape\":perf[2]} \n",
    "    \n",
    "    print()\n",
    "    \n",
    "    save_pkl(model,f\"models_deviation/rf_{sector}.pkl\")\n",
    "\n",
    "save_pkl(metrics,f\"models_deviation/metrics.pkl\")\n"
   ]
  }
 ],
 "metadata": {
  "kernelspec": {
   "display_name": ".venv",
   "language": "python",
   "name": "python3"
  },
  "language_info": {
   "codemirror_mode": {
    "name": "ipython",
    "version": 3
   },
   "file_extension": ".py",
   "mimetype": "text/x-python",
   "name": "python",
   "nbconvert_exporter": "python",
   "pygments_lexer": "ipython3",
   "version": "3.12.6"
  }
 },
 "nbformat": 4,
 "nbformat_minor": 2
}
